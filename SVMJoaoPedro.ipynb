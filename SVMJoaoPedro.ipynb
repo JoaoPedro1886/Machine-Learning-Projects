{
  "nbformat": 4,
  "nbformat_minor": 0,
  "metadata": {
    "kernelspec": {
      "display_name": "Python 3",
      "language": "python",
      "name": "python3"
    },
    "language_info": {
      "codemirror_mode": {
        "name": "ipython",
        "version": 3
      },
      "file_extension": ".py",
      "mimetype": "text/x-python",
      "name": "python",
      "nbconvert_exporter": "python",
      "pygments_lexer": "ipython3",
      "version": "3.7.0"
    },
    "colab": {
      "name": "SVMJoaoPedro.ipynb",
      "provenance": [],
      "collapsed_sections": []
    }
  },
  "cells": [
    {
      "cell_type": "code",
      "metadata": {
        "id": "knvbOjxrNjrr"
      },
      "source": [
        "import pandas as pd\n",
        "import numpy as np\n",
        "import matplotlib.pyplot as plt\n",
        "import seaborn as sns\n",
        "from sklearn.model_selection import train_test_split, cross_val_score\n",
        "from sklearn.metrics import confusion_matrix, classification_report\n",
        "from sklearn.svm import SVC\n",
        "from sklearn.ensemble import RandomForestClassifier, GradientBoostingClassifier"
      ],
      "execution_count": 71,
      "outputs": []
    },
    {
      "cell_type": "code",
      "metadata": {
        "id": "Bl1gHJAyNjsb",
        "colab": {
          "base_uri": "https://localhost:8080/",
          "height": 258
        },
        "outputId": "3b13ec5c-57aa-4951-b729-c2cb337ae826"
      },
      "source": [
        "df = pd.read_csv('https://archive.ics.uci.edu/ml/machine-learning-databases/00529/diabetes_data_upload.csv')\n",
        "df.head()"
      ],
      "execution_count": 96,
      "outputs": [
        {
          "output_type": "execute_result",
          "data": {
            "text/html": [
              "<div>\n",
              "<style scoped>\n",
              "    .dataframe tbody tr th:only-of-type {\n",
              "        vertical-align: middle;\n",
              "    }\n",
              "\n",
              "    .dataframe tbody tr th {\n",
              "        vertical-align: top;\n",
              "    }\n",
              "\n",
              "    .dataframe thead th {\n",
              "        text-align: right;\n",
              "    }\n",
              "</style>\n",
              "<table border=\"1\" class=\"dataframe\">\n",
              "  <thead>\n",
              "    <tr style=\"text-align: right;\">\n",
              "      <th></th>\n",
              "      <th>Age</th>\n",
              "      <th>Gender</th>\n",
              "      <th>Polyuria</th>\n",
              "      <th>Polydipsia</th>\n",
              "      <th>sudden weight loss</th>\n",
              "      <th>weakness</th>\n",
              "      <th>Polyphagia</th>\n",
              "      <th>Genital thrush</th>\n",
              "      <th>visual blurring</th>\n",
              "      <th>Itching</th>\n",
              "      <th>Irritability</th>\n",
              "      <th>delayed healing</th>\n",
              "      <th>partial paresis</th>\n",
              "      <th>muscle stiffness</th>\n",
              "      <th>Alopecia</th>\n",
              "      <th>Obesity</th>\n",
              "      <th>class</th>\n",
              "    </tr>\n",
              "  </thead>\n",
              "  <tbody>\n",
              "    <tr>\n",
              "      <th>0</th>\n",
              "      <td>40</td>\n",
              "      <td>Male</td>\n",
              "      <td>No</td>\n",
              "      <td>Yes</td>\n",
              "      <td>No</td>\n",
              "      <td>Yes</td>\n",
              "      <td>No</td>\n",
              "      <td>No</td>\n",
              "      <td>No</td>\n",
              "      <td>Yes</td>\n",
              "      <td>No</td>\n",
              "      <td>Yes</td>\n",
              "      <td>No</td>\n",
              "      <td>Yes</td>\n",
              "      <td>Yes</td>\n",
              "      <td>Yes</td>\n",
              "      <td>Positive</td>\n",
              "    </tr>\n",
              "    <tr>\n",
              "      <th>1</th>\n",
              "      <td>58</td>\n",
              "      <td>Male</td>\n",
              "      <td>No</td>\n",
              "      <td>No</td>\n",
              "      <td>No</td>\n",
              "      <td>Yes</td>\n",
              "      <td>No</td>\n",
              "      <td>No</td>\n",
              "      <td>Yes</td>\n",
              "      <td>No</td>\n",
              "      <td>No</td>\n",
              "      <td>No</td>\n",
              "      <td>Yes</td>\n",
              "      <td>No</td>\n",
              "      <td>Yes</td>\n",
              "      <td>No</td>\n",
              "      <td>Positive</td>\n",
              "    </tr>\n",
              "    <tr>\n",
              "      <th>2</th>\n",
              "      <td>41</td>\n",
              "      <td>Male</td>\n",
              "      <td>Yes</td>\n",
              "      <td>No</td>\n",
              "      <td>No</td>\n",
              "      <td>Yes</td>\n",
              "      <td>Yes</td>\n",
              "      <td>No</td>\n",
              "      <td>No</td>\n",
              "      <td>Yes</td>\n",
              "      <td>No</td>\n",
              "      <td>Yes</td>\n",
              "      <td>No</td>\n",
              "      <td>Yes</td>\n",
              "      <td>Yes</td>\n",
              "      <td>No</td>\n",
              "      <td>Positive</td>\n",
              "    </tr>\n",
              "    <tr>\n",
              "      <th>3</th>\n",
              "      <td>45</td>\n",
              "      <td>Male</td>\n",
              "      <td>No</td>\n",
              "      <td>No</td>\n",
              "      <td>Yes</td>\n",
              "      <td>Yes</td>\n",
              "      <td>Yes</td>\n",
              "      <td>Yes</td>\n",
              "      <td>No</td>\n",
              "      <td>Yes</td>\n",
              "      <td>No</td>\n",
              "      <td>Yes</td>\n",
              "      <td>No</td>\n",
              "      <td>No</td>\n",
              "      <td>No</td>\n",
              "      <td>No</td>\n",
              "      <td>Positive</td>\n",
              "    </tr>\n",
              "    <tr>\n",
              "      <th>4</th>\n",
              "      <td>60</td>\n",
              "      <td>Male</td>\n",
              "      <td>Yes</td>\n",
              "      <td>Yes</td>\n",
              "      <td>Yes</td>\n",
              "      <td>Yes</td>\n",
              "      <td>Yes</td>\n",
              "      <td>No</td>\n",
              "      <td>Yes</td>\n",
              "      <td>Yes</td>\n",
              "      <td>Yes</td>\n",
              "      <td>Yes</td>\n",
              "      <td>Yes</td>\n",
              "      <td>Yes</td>\n",
              "      <td>Yes</td>\n",
              "      <td>Yes</td>\n",
              "      <td>Positive</td>\n",
              "    </tr>\n",
              "  </tbody>\n",
              "</table>\n",
              "</div>"
            ],
            "text/plain": [
              "   Age Gender Polyuria Polydipsia  ... muscle stiffness Alopecia Obesity     class\n",
              "0   40   Male       No        Yes  ...              Yes      Yes     Yes  Positive\n",
              "1   58   Male       No         No  ...               No      Yes      No  Positive\n",
              "2   41   Male      Yes         No  ...              Yes      Yes      No  Positive\n",
              "3   45   Male       No         No  ...               No       No      No  Positive\n",
              "4   60   Male      Yes        Yes  ...              Yes      Yes     Yes  Positive\n",
              "\n",
              "[5 rows x 17 columns]"
            ]
          },
          "metadata": {
            "tags": []
          },
          "execution_count": 96
        }
      ]
    },
    {
      "cell_type": "code",
      "metadata": {
        "id": "SyPi0UYhNjsm",
        "outputId": "5c41a4a8-16db-46b1-97ae-cc5fc2085958"
      },
      "source": [
        "df.shape"
      ],
      "execution_count": null,
      "outputs": [
        {
          "output_type": "execute_result",
          "data": {
            "text/plain": [
              "(520, 17)"
            ]
          },
          "metadata": {
            "tags": []
          },
          "execution_count": 45
        }
      ]
    },
    {
      "cell_type": "code",
      "metadata": {
        "id": "pmp04e3lNjso",
        "outputId": "7f19b6b0-cd2e-42c6-fd75-33dda83d3dde"
      },
      "source": [
        "df.isnull().sum()"
      ],
      "execution_count": null,
      "outputs": [
        {
          "output_type": "execute_result",
          "data": {
            "text/plain": [
              "Age                   0\n",
              "Gender                0\n",
              "Polyuria              0\n",
              "Polydipsia            0\n",
              "sudden weight loss    0\n",
              "weakness              0\n",
              "Polyphagia            0\n",
              "Genital thrush        0\n",
              "visual blurring       0\n",
              "Itching               0\n",
              "Irritability          0\n",
              "delayed healing       0\n",
              "partial paresis       0\n",
              "muscle stiffness      0\n",
              "Alopecia              0\n",
              "Obesity               0\n",
              "class                 0\n",
              "dtype: int64"
            ]
          },
          "metadata": {
            "tags": []
          },
          "execution_count": 46
        }
      ]
    },
    {
      "cell_type": "code",
      "metadata": {
        "id": "wp3KE2izNjsq"
      },
      "source": [
        "y = df['class']\n",
        "y = pd.get_dummies(y, prefix_sep='_', drop_first=True)\n",
        "X = df.drop(['class'], 1)\n",
        "X = pd.get_dummies(X, prefix_sep='_', drop_first=True)\n",
        "X_train, X_test, y_train, y_test = train_test_split(X,y)"
      ],
      "execution_count": null,
      "outputs": []
    },
    {
      "cell_type": "markdown",
      "metadata": {
        "id": "dN2I4se4LG_A"
      },
      "source": [
        "# Visualizando correlações"
      ]
    },
    {
      "cell_type": "code",
      "metadata": {
        "colab": {
          "base_uri": "https://localhost:8080/",
          "height": 553
        },
        "id": "L4aKAAE11AmN",
        "outputId": "7bb9ab7c-3a12-4285-c54f-9b4203e5edd3"
      },
      "source": [
        "df1 = pd.get_dummies(df, prefix_sep='_', drop_first=True)\r\n",
        "\r\n",
        "corr = df1.corr()\r\n",
        "corr.style.background_gradient(cmap='coolwarm').set_precision(2)"
      ],
      "execution_count": 98,
      "outputs": [
        {
          "output_type": "execute_result",
          "data": {
            "text/html": [
              "<style  type=\"text/css\" >\n",
              "#T_885f5f90_6cdd_11eb_adfb_0242ac1c0002row0_col0,#T_885f5f90_6cdd_11eb_adfb_0242ac1c0002row1_col1,#T_885f5f90_6cdd_11eb_adfb_0242ac1c0002row2_col2,#T_885f5f90_6cdd_11eb_adfb_0242ac1c0002row3_col3,#T_885f5f90_6cdd_11eb_adfb_0242ac1c0002row4_col4,#T_885f5f90_6cdd_11eb_adfb_0242ac1c0002row5_col5,#T_885f5f90_6cdd_11eb_adfb_0242ac1c0002row6_col6,#T_885f5f90_6cdd_11eb_adfb_0242ac1c0002row7_col7,#T_885f5f90_6cdd_11eb_adfb_0242ac1c0002row8_col8,#T_885f5f90_6cdd_11eb_adfb_0242ac1c0002row9_col9,#T_885f5f90_6cdd_11eb_adfb_0242ac1c0002row10_col10,#T_885f5f90_6cdd_11eb_adfb_0242ac1c0002row11_col11,#T_885f5f90_6cdd_11eb_adfb_0242ac1c0002row12_col12,#T_885f5f90_6cdd_11eb_adfb_0242ac1c0002row13_col13,#T_885f5f90_6cdd_11eb_adfb_0242ac1c0002row14_col14,#T_885f5f90_6cdd_11eb_adfb_0242ac1c0002row15_col15,#T_885f5f90_6cdd_11eb_adfb_0242ac1c0002row16_col16{\n",
              "            background-color:  #b40426;\n",
              "            color:  #f1f1f1;\n",
              "        }#T_885f5f90_6cdd_11eb_adfb_0242ac1c0002row0_col1,#T_885f5f90_6cdd_11eb_adfb_0242ac1c0002row12_col5,#T_885f5f90_6cdd_11eb_adfb_0242ac1c0002row15_col4{\n",
              "            background-color:  #b1cbfc;\n",
              "            color:  #000000;\n",
              "        }#T_885f5f90_6cdd_11eb_adfb_0242ac1c0002row0_col2,#T_885f5f90_6cdd_11eb_adfb_0242ac1c0002row0_col13{\n",
              "            background-color:  #b6cefa;\n",
              "            color:  #000000;\n",
              "        }#T_885f5f90_6cdd_11eb_adfb_0242ac1c0002row0_col3,#T_885f5f90_6cdd_11eb_adfb_0242ac1c0002row11_col16{\n",
              "            background-color:  #adc9fd;\n",
              "            color:  #000000;\n",
              "        }#T_885f5f90_6cdd_11eb_adfb_0242ac1c0002row0_col4,#T_885f5f90_6cdd_11eb_adfb_0242ac1c0002row6_col0,#T_885f5f90_6cdd_11eb_adfb_0242ac1c0002row6_col5,#T_885f5f90_6cdd_11eb_adfb_0242ac1c0002row10_col14{\n",
              "            background-color:  #94b6ff;\n",
              "            color:  #000000;\n",
              "        }#T_885f5f90_6cdd_11eb_adfb_0242ac1c0002row0_col5,#T_885f5f90_6cdd_11eb_adfb_0242ac1c0002row15_col2,#T_885f5f90_6cdd_11eb_adfb_0242ac1c0002row16_col10{\n",
              "            background-color:  #a2c1ff;\n",
              "            color:  #000000;\n",
              "        }#T_885f5f90_6cdd_11eb_adfb_0242ac1c0002row0_col6,#T_885f5f90_6cdd_11eb_adfb_0242ac1c0002row3_col6,#T_885f5f90_6cdd_11eb_adfb_0242ac1c0002row5_col4,#T_885f5f90_6cdd_11eb_adfb_0242ac1c0002row9_col14{\n",
              "            background-color:  #ccd9ed;\n",
              "            color:  #000000;\n",
              "        }#T_885f5f90_6cdd_11eb_adfb_0242ac1c0002row0_col7,#T_885f5f90_6cdd_11eb_adfb_0242ac1c0002row15_col12{\n",
              "            background-color:  #8badfd;\n",
              "            color:  #000000;\n",
              "        }#T_885f5f90_6cdd_11eb_adfb_0242ac1c0002row0_col8,#T_885f5f90_6cdd_11eb_adfb_0242ac1c0002row6_col2,#T_885f5f90_6cdd_11eb_adfb_0242ac1c0002row9_col11{\n",
              "            background-color:  #dedcdb;\n",
              "            color:  #000000;\n",
              "        }#T_885f5f90_6cdd_11eb_adfb_0242ac1c0002row0_col9,#T_885f5f90_6cdd_11eb_adfb_0242ac1c0002row5_col13,#T_885f5f90_6cdd_11eb_adfb_0242ac1c0002row10_col4,#T_885f5f90_6cdd_11eb_adfb_0242ac1c0002row11_col2{\n",
              "            background-color:  #a9c6fd;\n",
              "            color:  #000000;\n",
              "        }#T_885f5f90_6cdd_11eb_adfb_0242ac1c0002row0_col10,#T_885f5f90_6cdd_11eb_adfb_0242ac1c0002row3_col10,#T_885f5f90_6cdd_11eb_adfb_0242ac1c0002row13_col10,#T_885f5f90_6cdd_11eb_adfb_0242ac1c0002row13_col15{\n",
              "            background-color:  #80a3fa;\n",
              "            color:  #000000;\n",
              "        }#T_885f5f90_6cdd_11eb_adfb_0242ac1c0002row0_col11,#T_885f5f90_6cdd_11eb_adfb_0242ac1c0002row5_col6,#T_885f5f90_6cdd_11eb_adfb_0242ac1c0002row8_col9,#T_885f5f90_6cdd_11eb_adfb_0242ac1c0002row11_col3,#T_885f5f90_6cdd_11eb_adfb_0242ac1c0002row16_col5{\n",
              "            background-color:  #a7c5fe;\n",
              "            color:  #000000;\n",
              "        }#T_885f5f90_6cdd_11eb_adfb_0242ac1c0002row0_col12,#T_885f5f90_6cdd_11eb_adfb_0242ac1c0002row13_col12{\n",
              "            background-color:  #c7d7f0;\n",
              "            color:  #000000;\n",
              "        }#T_885f5f90_6cdd_11eb_adfb_0242ac1c0002row0_col14,#T_885f5f90_6cdd_11eb_adfb_0242ac1c0002row8_col16,#T_885f5f90_6cdd_11eb_adfb_0242ac1c0002row11_col9{\n",
              "            background-color:  #d8dce2;\n",
              "            color:  #000000;\n",
              "        }#T_885f5f90_6cdd_11eb_adfb_0242ac1c0002row0_col15{\n",
              "            background-color:  #799cf8;\n",
              "            color:  #000000;\n",
              "        }#T_885f5f90_6cdd_11eb_adfb_0242ac1c0002row0_col16,#T_885f5f90_6cdd_11eb_adfb_0242ac1c0002row7_col16,#T_885f5f90_6cdd_11eb_adfb_0242ac1c0002row9_col5{\n",
              "            background-color:  #bbd1f8;\n",
              "            color:  #000000;\n",
              "        }#T_885f5f90_6cdd_11eb_adfb_0242ac1c0002row1_col0,#T_885f5f90_6cdd_11eb_adfb_0242ac1c0002row1_col2,#T_885f5f90_6cdd_11eb_adfb_0242ac1c0002row1_col3,#T_885f5f90_6cdd_11eb_adfb_0242ac1c0002row1_col4,#T_885f5f90_6cdd_11eb_adfb_0242ac1c0002row1_col5,#T_885f5f90_6cdd_11eb_adfb_0242ac1c0002row1_col6,#T_885f5f90_6cdd_11eb_adfb_0242ac1c0002row1_col8,#T_885f5f90_6cdd_11eb_adfb_0242ac1c0002row1_col9,#T_885f5f90_6cdd_11eb_adfb_0242ac1c0002row1_col10,#T_885f5f90_6cdd_11eb_adfb_0242ac1c0002row1_col11,#T_885f5f90_6cdd_11eb_adfb_0242ac1c0002row1_col12,#T_885f5f90_6cdd_11eb_adfb_0242ac1c0002row1_col16,#T_885f5f90_6cdd_11eb_adfb_0242ac1c0002row3_col14,#T_885f5f90_6cdd_11eb_adfb_0242ac1c0002row4_col0,#T_885f5f90_6cdd_11eb_adfb_0242ac1c0002row7_col13,#T_885f5f90_6cdd_11eb_adfb_0242ac1c0002row11_col15,#T_885f5f90_6cdd_11eb_adfb_0242ac1c0002row12_col7,#T_885f5f90_6cdd_11eb_adfb_0242ac1c0002row14_col3,#T_885f5f90_6cdd_11eb_adfb_0242ac1c0002row16_col1{\n",
              "            background-color:  #3b4cc0;\n",
              "            color:  #f1f1f1;\n",
              "        }#T_885f5f90_6cdd_11eb_adfb_0242ac1c0002row1_col7,#T_885f5f90_6cdd_11eb_adfb_0242ac1c0002row9_col3,#T_885f5f90_6cdd_11eb_adfb_0242ac1c0002row9_col12{\n",
              "            background-color:  #abc8fd;\n",
              "            color:  #000000;\n",
              "        }#T_885f5f90_6cdd_11eb_adfb_0242ac1c0002row1_col13{\n",
              "            background-color:  #3d50c3;\n",
              "            color:  #f1f1f1;\n",
              "        }#T_885f5f90_6cdd_11eb_adfb_0242ac1c0002row1_col14,#T_885f5f90_6cdd_11eb_adfb_0242ac1c0002row2_col6,#T_885f5f90_6cdd_11eb_adfb_0242ac1c0002row12_col6{\n",
              "            background-color:  #d9dce1;\n",
              "            color:  #000000;\n",
              "        }#T_885f5f90_6cdd_11eb_adfb_0242ac1c0002row1_col15,#T_885f5f90_6cdd_11eb_adfb_0242ac1c0002row14_col10{\n",
              "            background-color:  #4b64d5;\n",
              "            color:  #f1f1f1;\n",
              "        }#T_885f5f90_6cdd_11eb_adfb_0242ac1c0002row2_col0,#T_885f5f90_6cdd_11eb_adfb_0242ac1c0002row10_col0{\n",
              "            background-color:  #688aef;\n",
              "            color:  #000000;\n",
              "        }#T_885f5f90_6cdd_11eb_adfb_0242ac1c0002row2_col1{\n",
              "            background-color:  #6180e9;\n",
              "            color:  #000000;\n",
              "        }#T_885f5f90_6cdd_11eb_adfb_0242ac1c0002row2_col3{\n",
              "            background-color:  #f7af91;\n",
              "            color:  #000000;\n",
              "        }#T_885f5f90_6cdd_11eb_adfb_0242ac1c0002row2_col4{\n",
              "            background-color:  #edd2c3;\n",
              "            color:  #000000;\n",
              "        }#T_885f5f90_6cdd_11eb_adfb_0242ac1c0002row2_col5,#T_885f5f90_6cdd_11eb_adfb_0242ac1c0002row5_col9,#T_885f5f90_6cdd_11eb_adfb_0242ac1c0002row13_col5{\n",
              "            background-color:  #aec9fc;\n",
              "            color:  #000000;\n",
              "        }#T_885f5f90_6cdd_11eb_adfb_0242ac1c0002row2_col7,#T_885f5f90_6cdd_11eb_adfb_0242ac1c0002row10_col8,#T_885f5f90_6cdd_11eb_adfb_0242ac1c0002row15_col13{\n",
              "            background-color:  #88abfd;\n",
              "            color:  #000000;\n",
              "        }#T_885f5f90_6cdd_11eb_adfb_0242ac1c0002row2_col8{\n",
              "            background-color:  #b5cdfa;\n",
              "            color:  #000000;\n",
              "        }#T_885f5f90_6cdd_11eb_adfb_0242ac1c0002row2_col9,#T_885f5f90_6cdd_11eb_adfb_0242ac1c0002row7_col5,#T_885f5f90_6cdd_11eb_adfb_0242ac1c0002row14_col6,#T_885f5f90_6cdd_11eb_adfb_0242ac1c0002row16_col11{\n",
              "            background-color:  #6485ec;\n",
              "            color:  #000000;\n",
              "        }#T_885f5f90_6cdd_11eb_adfb_0242ac1c0002row2_col10,#T_885f5f90_6cdd_11eb_adfb_0242ac1c0002row6_col10,#T_885f5f90_6cdd_11eb_adfb_0242ac1c0002row8_col14,#T_885f5f90_6cdd_11eb_adfb_0242ac1c0002row9_col0,#T_885f5f90_6cdd_11eb_adfb_0242ac1c0002row13_col1{\n",
              "            background-color:  #8caffe;\n",
              "            color:  #000000;\n",
              "        }#T_885f5f90_6cdd_11eb_adfb_0242ac1c0002row2_col11,#T_885f5f90_6cdd_11eb_adfb_0242ac1c0002row2_col13,#T_885f5f90_6cdd_11eb_adfb_0242ac1c0002row4_col8{\n",
              "            background-color:  #85a8fc;\n",
              "            color:  #000000;\n",
              "        }#T_885f5f90_6cdd_11eb_adfb_0242ac1c0002row2_col12,#T_885f5f90_6cdd_11eb_adfb_0242ac1c0002row3_col12{\n",
              "            background-color:  #efcfbf;\n",
              "            color:  #000000;\n",
              "        }#T_885f5f90_6cdd_11eb_adfb_0242ac1c0002row2_col14,#T_885f5f90_6cdd_11eb_adfb_0242ac1c0002row7_col6,#T_885f5f90_6cdd_11eb_adfb_0242ac1c0002row9_col10,#T_885f5f90_6cdd_11eb_adfb_0242ac1c0002row14_col13,#T_885f5f90_6cdd_11eb_adfb_0242ac1c0002row14_col16{\n",
              "            background-color:  #6282ea;\n",
              "            color:  #000000;\n",
              "        }#T_885f5f90_6cdd_11eb_adfb_0242ac1c0002row2_col15,#T_885f5f90_6cdd_11eb_adfb_0242ac1c0002row10_col15,#T_885f5f90_6cdd_11eb_adfb_0242ac1c0002row12_col0{\n",
              "            background-color:  #7597f6;\n",
              "            color:  #000000;\n",
              "        }#T_885f5f90_6cdd_11eb_adfb_0242ac1c0002row2_col16{\n",
              "            background-color:  #f29274;\n",
              "            color:  #000000;\n",
              "        }#T_885f5f90_6cdd_11eb_adfb_0242ac1c0002row3_col0,#T_885f5f90_6cdd_11eb_adfb_0242ac1c0002row12_col1,#T_885f5f90_6cdd_11eb_adfb_0242ac1c0002row13_col7{\n",
              "            background-color:  #536edd;\n",
              "            color:  #000000;\n",
              "        }#T_885f5f90_6cdd_11eb_adfb_0242ac1c0002row3_col1{\n",
              "            background-color:  #5875e1;\n",
              "            color:  #000000;\n",
              "        }#T_885f5f90_6cdd_11eb_adfb_0242ac1c0002row3_col2{\n",
              "            background-color:  #f7b194;\n",
              "            color:  #000000;\n",
              "        }#T_885f5f90_6cdd_11eb_adfb_0242ac1c0002row3_col4,#T_885f5f90_6cdd_11eb_adfb_0242ac1c0002row14_col1{\n",
              "            background-color:  #e6d7cf;\n",
              "            color:  #000000;\n",
              "        }#T_885f5f90_6cdd_11eb_adfb_0242ac1c0002row3_col5,#T_885f5f90_6cdd_11eb_adfb_0242ac1c0002row6_col4,#T_885f5f90_6cdd_11eb_adfb_0242ac1c0002row11_col5{\n",
              "            background-color:  #c3d5f4;\n",
              "            color:  #000000;\n",
              "        }#T_885f5f90_6cdd_11eb_adfb_0242ac1c0002row3_col7,#T_885f5f90_6cdd_11eb_adfb_0242ac1c0002row5_col7,#T_885f5f90_6cdd_11eb_adfb_0242ac1c0002row6_col9,#T_885f5f90_6cdd_11eb_adfb_0242ac1c0002row14_col8{\n",
              "            background-color:  #7699f6;\n",
              "            color:  #000000;\n",
              "        }#T_885f5f90_6cdd_11eb_adfb_0242ac1c0002row3_col8,#T_885f5f90_6cdd_11eb_adfb_0242ac1c0002row4_col12{\n",
              "            background-color:  #cedaeb;\n",
              "            color:  #000000;\n",
              "        }#T_885f5f90_6cdd_11eb_adfb_0242ac1c0002row3_col9,#T_885f5f90_6cdd_11eb_adfb_0242ac1c0002row4_col11,#T_885f5f90_6cdd_11eb_adfb_0242ac1c0002row5_col0,#T_885f5f90_6cdd_11eb_adfb_0242ac1c0002row7_col10{\n",
              "            background-color:  #7295f4;\n",
              "            color:  #000000;\n",
              "        }#T_885f5f90_6cdd_11eb_adfb_0242ac1c0002row3_col11,#T_885f5f90_6cdd_11eb_adfb_0242ac1c0002row6_col14{\n",
              "            background-color:  #7a9df8;\n",
              "            color:  #000000;\n",
              "        }#T_885f5f90_6cdd_11eb_adfb_0242ac1c0002row3_col13,#T_885f5f90_6cdd_11eb_adfb_0242ac1c0002row13_col9,#T_885f5f90_6cdd_11eb_adfb_0242ac1c0002row16_col7{\n",
              "            background-color:  #8fb1fe;\n",
              "            color:  #000000;\n",
              "        }#T_885f5f90_6cdd_11eb_adfb_0242ac1c0002row3_col15{\n",
              "            background-color:  #6b8df0;\n",
              "            color:  #000000;\n",
              "        }#T_885f5f90_6cdd_11eb_adfb_0242ac1c0002row3_col16{\n",
              "            background-color:  #f39778;\n",
              "            color:  #000000;\n",
              "        }#T_885f5f90_6cdd_11eb_adfb_0242ac1c0002row4_col1{\n",
              "            background-color:  #5e7de7;\n",
              "            color:  #000000;\n",
              "        }#T_885f5f90_6cdd_11eb_adfb_0242ac1c0002row4_col2{\n",
              "            background-color:  #ecd3c5;\n",
              "            color:  #000000;\n",
              "        }#T_885f5f90_6cdd_11eb_adfb_0242ac1c0002row4_col3{\n",
              "            background-color:  #e9d5cb;\n",
              "            color:  #000000;\n",
              "        }#T_885f5f90_6cdd_11eb_adfb_0242ac1c0002row4_col5,#T_885f5f90_6cdd_11eb_adfb_0242ac1c0002row8_col0,#T_885f5f90_6cdd_11eb_adfb_0242ac1c0002row10_col12,#T_885f5f90_6cdd_11eb_adfb_0242ac1c0002row15_col16{\n",
              "            background-color:  #b3cdfb;\n",
              "            color:  #000000;\n",
              "        }#T_885f5f90_6cdd_11eb_adfb_0242ac1c0002row4_col6,#T_885f5f90_6cdd_11eb_adfb_0242ac1c0002row6_col13,#T_885f5f90_6cdd_11eb_adfb_0242ac1c0002row16_col8{\n",
              "            background-color:  #bad0f8;\n",
              "            color:  #000000;\n",
              "        }#T_885f5f90_6cdd_11eb_adfb_0242ac1c0002row4_col7,#T_885f5f90_6cdd_11eb_adfb_0242ac1c0002row10_col5,#T_885f5f90_6cdd_11eb_adfb_0242ac1c0002row11_col1{\n",
              "            background-color:  #89acfd;\n",
              "            color:  #000000;\n",
              "        }#T_885f5f90_6cdd_11eb_adfb_0242ac1c0002row4_col9{\n",
              "            background-color:  #485fd1;\n",
              "            color:  #f1f1f1;\n",
              "        }#T_885f5f90_6cdd_11eb_adfb_0242ac1c0002row4_col10,#T_885f5f90_6cdd_11eb_adfb_0242ac1c0002row15_col5{\n",
              "            background-color:  #6a8bef;\n",
              "            color:  #000000;\n",
              "        }#T_885f5f90_6cdd_11eb_adfb_0242ac1c0002row4_col13,#T_885f5f90_6cdd_11eb_adfb_0242ac1c0002row14_col5{\n",
              "            background-color:  #779af7;\n",
              "            color:  #000000;\n",
              "        }#T_885f5f90_6cdd_11eb_adfb_0242ac1c0002row4_col14,#T_885f5f90_6cdd_11eb_adfb_0242ac1c0002row14_col12,#T_885f5f90_6cdd_11eb_adfb_0242ac1c0002row15_col0{\n",
              "            background-color:  #5470de;\n",
              "            color:  #000000;\n",
              "        }#T_885f5f90_6cdd_11eb_adfb_0242ac1c0002row4_col15{\n",
              "            background-color:  #82a6fb;\n",
              "            color:  #000000;\n",
              "        }#T_885f5f90_6cdd_11eb_adfb_0242ac1c0002row4_col16{\n",
              "            background-color:  #f3c8b2;\n",
              "            color:  #000000;\n",
              "        }#T_885f5f90_6cdd_11eb_adfb_0242ac1c0002row5_col1{\n",
              "            background-color:  #84a7fc;\n",
              "            color:  #000000;\n",
              "        }#T_885f5f90_6cdd_11eb_adfb_0242ac1c0002row5_col2,#T_885f5f90_6cdd_11eb_adfb_0242ac1c0002row5_col8,#T_885f5f90_6cdd_11eb_adfb_0242ac1c0002row8_col6{\n",
              "            background-color:  #c6d6f1;\n",
              "            color:  #000000;\n",
              "        }#T_885f5f90_6cdd_11eb_adfb_0242ac1c0002row5_col3,#T_885f5f90_6cdd_11eb_adfb_0242ac1c0002row8_col3{\n",
              "            background-color:  #dadce0;\n",
              "            color:  #000000;\n",
              "        }#T_885f5f90_6cdd_11eb_adfb_0242ac1c0002row5_col10,#T_885f5f90_6cdd_11eb_adfb_0242ac1c0002row6_col1,#T_885f5f90_6cdd_11eb_adfb_0242ac1c0002row10_col9{\n",
              "            background-color:  #6c8ff1;\n",
              "            color:  #000000;\n",
              "        }#T_885f5f90_6cdd_11eb_adfb_0242ac1c0002row5_col11,#T_885f5f90_6cdd_11eb_adfb_0242ac1c0002row8_col2,#T_885f5f90_6cdd_11eb_adfb_0242ac1c0002row11_col6{\n",
              "            background-color:  #bfd3f6;\n",
              "            color:  #000000;\n",
              "        }#T_885f5f90_6cdd_11eb_adfb_0242ac1c0002row5_col12,#T_885f5f90_6cdd_11eb_adfb_0242ac1c0002row7_col1{\n",
              "            background-color:  #d1dae9;\n",
              "            color:  #000000;\n",
              "        }#T_885f5f90_6cdd_11eb_adfb_0242ac1c0002row5_col14,#T_885f5f90_6cdd_11eb_adfb_0242ac1c0002row13_col4,#T_885f5f90_6cdd_11eb_adfb_0242ac1c0002row15_col1{\n",
              "            background-color:  #a1c0ff;\n",
              "            color:  #000000;\n",
              "        }#T_885f5f90_6cdd_11eb_adfb_0242ac1c0002row5_col15,#T_885f5f90_6cdd_11eb_adfb_0242ac1c0002row7_col12{\n",
              "            background-color:  #5a78e4;\n",
              "            color:  #000000;\n",
              "        }#T_885f5f90_6cdd_11eb_adfb_0242ac1c0002row5_col16,#T_885f5f90_6cdd_11eb_adfb_0242ac1c0002row6_col3{\n",
              "            background-color:  #d7dce3;\n",
              "            color:  #000000;\n",
              "        }#T_885f5f90_6cdd_11eb_adfb_0242ac1c0002row6_col7,#T_885f5f90_6cdd_11eb_adfb_0242ac1c0002row7_col15{\n",
              "            background-color:  #5d7ce6;\n",
              "            color:  #000000;\n",
              "        }#T_885f5f90_6cdd_11eb_adfb_0242ac1c0002row6_col8{\n",
              "            background-color:  #c5d6f2;\n",
              "            color:  #000000;\n",
              "        }#T_885f5f90_6cdd_11eb_adfb_0242ac1c0002row6_col11,#T_885f5f90_6cdd_11eb_adfb_0242ac1c0002row13_col2,#T_885f5f90_6cdd_11eb_adfb_0242ac1c0002row14_col7{\n",
              "            background-color:  #aac7fd;\n",
              "            color:  #000000;\n",
              "        }#T_885f5f90_6cdd_11eb_adfb_0242ac1c0002row6_col12{\n",
              "            background-color:  #e4d9d2;\n",
              "            color:  #000000;\n",
              "        }#T_885f5f90_6cdd_11eb_adfb_0242ac1c0002row6_col15{\n",
              "            background-color:  #5673e0;\n",
              "            color:  #000000;\n",
              "        }#T_885f5f90_6cdd_11eb_adfb_0242ac1c0002row6_col16{\n",
              "            background-color:  #e8d6cc;\n",
              "            color:  #000000;\n",
              "        }#T_885f5f90_6cdd_11eb_adfb_0242ac1c0002row7_col0,#T_885f5f90_6cdd_11eb_adfb_0242ac1c0002row16_col9{\n",
              "            background-color:  #455cce;\n",
              "            color:  #f1f1f1;\n",
              "        }#T_885f5f90_6cdd_11eb_adfb_0242ac1c0002row7_col2,#T_885f5f90_6cdd_11eb_adfb_0242ac1c0002row11_col7{\n",
              "            background-color:  #97b8ff;\n",
              "            color:  #000000;\n",
              "        }#T_885f5f90_6cdd_11eb_adfb_0242ac1c0002row7_col3,#T_885f5f90_6cdd_11eb_adfb_0242ac1c0002row13_col0,#T_885f5f90_6cdd_11eb_adfb_0242ac1c0002row15_col14{\n",
              "            background-color:  #90b2fe;\n",
              "            color:  #000000;\n",
              "        }#T_885f5f90_6cdd_11eb_adfb_0242ac1c0002row7_col4{\n",
              "            background-color:  #9bbcff;\n",
              "            color:  #000000;\n",
              "        }#T_885f5f90_6cdd_11eb_adfb_0242ac1c0002row7_col8,#T_885f5f90_6cdd_11eb_adfb_0242ac1c0002row16_col0{\n",
              "            background-color:  #4961d2;\n",
              "            color:  #f1f1f1;\n",
              "        }#T_885f5f90_6cdd_11eb_adfb_0242ac1c0002row7_col9{\n",
              "            background-color:  #7093f3;\n",
              "            color:  #000000;\n",
              "        }#T_885f5f90_6cdd_11eb_adfb_0242ac1c0002row7_col11,#T_885f5f90_6cdd_11eb_adfb_0242ac1c0002row9_col4{\n",
              "            background-color:  #81a4fb;\n",
              "            color:  #000000;\n",
              "        }#T_885f5f90_6cdd_11eb_adfb_0242ac1c0002row7_col14,#T_885f5f90_6cdd_11eb_adfb_0242ac1c0002row10_col3,#T_885f5f90_6cdd_11eb_adfb_0242ac1c0002row13_col16{\n",
              "            background-color:  #bed2f6;\n",
              "            color:  #000000;\n",
              "        }#T_885f5f90_6cdd_11eb_adfb_0242ac1c0002row8_col1,#T_885f5f90_6cdd_11eb_adfb_0242ac1c0002row8_col15{\n",
              "            background-color:  #6f92f3;\n",
              "            color:  #000000;\n",
              "        }#T_885f5f90_6cdd_11eb_adfb_0242ac1c0002row8_col4,#T_885f5f90_6cdd_11eb_adfb_0242ac1c0002row9_col1,#T_885f5f90_6cdd_11eb_adfb_0242ac1c0002row10_col13,#T_885f5f90_6cdd_11eb_adfb_0242ac1c0002row14_col0{\n",
              "            background-color:  #96b7ff;\n",
              "            color:  #000000;\n",
              "        }#T_885f5f90_6cdd_11eb_adfb_0242ac1c0002row8_col5,#T_885f5f90_6cdd_11eb_adfb_0242ac1c0002row10_col6,#T_885f5f90_6cdd_11eb_adfb_0242ac1c0002row13_col3{\n",
              "            background-color:  #b9d0f9;\n",
              "            color:  #000000;\n",
              "        }#T_885f5f90_6cdd_11eb_adfb_0242ac1c0002row8_col7{\n",
              "            background-color:  #465ecf;\n",
              "            color:  #f1f1f1;\n",
              "        }#T_885f5f90_6cdd_11eb_adfb_0242ac1c0002row8_col10,#T_885f5f90_6cdd_11eb_adfb_0242ac1c0002row14_col15{\n",
              "            background-color:  #5572df;\n",
              "            color:  #000000;\n",
              "        }#T_885f5f90_6cdd_11eb_adfb_0242ac1c0002row8_col11{\n",
              "            background-color:  #8db0fe;\n",
              "            color:  #000000;\n",
              "        }#T_885f5f90_6cdd_11eb_adfb_0242ac1c0002row8_col12{\n",
              "            background-color:  #e2dad5;\n",
              "            color:  #000000;\n",
              "        }#T_885f5f90_6cdd_11eb_adfb_0242ac1c0002row8_col13{\n",
              "            background-color:  #d4dbe6;\n",
              "            color:  #000000;\n",
              "        }#T_885f5f90_6cdd_11eb_adfb_0242ac1c0002row9_col2{\n",
              "            background-color:  #98b9ff;\n",
              "            color:  #000000;\n",
              "        }#T_885f5f90_6cdd_11eb_adfb_0242ac1c0002row9_col6,#T_885f5f90_6cdd_11eb_adfb_0242ac1c0002row9_col16,#T_885f5f90_6cdd_11eb_adfb_0242ac1c0002row10_col1,#T_885f5f90_6cdd_11eb_adfb_0242ac1c0002row10_col7{\n",
              "            background-color:  #9ebeff;\n",
              "            color:  #000000;\n",
              "        }#T_885f5f90_6cdd_11eb_adfb_0242ac1c0002row9_col7,#T_885f5f90_6cdd_11eb_adfb_0242ac1c0002row13_col14{\n",
              "            background-color:  #93b5fe;\n",
              "            color:  #000000;\n",
              "        }#T_885f5f90_6cdd_11eb_adfb_0242ac1c0002row9_col8{\n",
              "            background-color:  #c4d5f3;\n",
              "            color:  #000000;\n",
              "        }#T_885f5f90_6cdd_11eb_adfb_0242ac1c0002row9_col13,#T_885f5f90_6cdd_11eb_adfb_0242ac1c0002row11_col4{\n",
              "            background-color:  #9abbff;\n",
              "            color:  #000000;\n",
              "        }#T_885f5f90_6cdd_11eb_adfb_0242ac1c0002row9_col15{\n",
              "            background-color:  #4e68d8;\n",
              "            color:  #000000;\n",
              "        }#T_885f5f90_6cdd_11eb_adfb_0242ac1c0002row10_col2{\n",
              "            background-color:  #c0d4f5;\n",
              "            color:  #000000;\n",
              "        }#T_885f5f90_6cdd_11eb_adfb_0242ac1c0002row10_col11,#T_885f5f90_6cdd_11eb_adfb_0242ac1c0002row11_col0,#T_885f5f90_6cdd_11eb_adfb_0242ac1c0002row15_col7{\n",
              "            background-color:  #7ea1fa;\n",
              "            color:  #000000;\n",
              "        }#T_885f5f90_6cdd_11eb_adfb_0242ac1c0002row10_col16{\n",
              "            background-color:  #e1dad6;\n",
              "            color:  #000000;\n",
              "        }#T_885f5f90_6cdd_11eb_adfb_0242ac1c0002row11_col8,#T_885f5f90_6cdd_11eb_adfb_0242ac1c0002row11_col13,#T_885f5f90_6cdd_11eb_adfb_0242ac1c0002row13_col11{\n",
              "            background-color:  #a5c3fe;\n",
              "            color:  #000000;\n",
              "        }#T_885f5f90_6cdd_11eb_adfb_0242ac1c0002row11_col10,#T_885f5f90_6cdd_11eb_adfb_0242ac1c0002row15_col10{\n",
              "            background-color:  #6687ed;\n",
              "            color:  #000000;\n",
              "        }#T_885f5f90_6cdd_11eb_adfb_0242ac1c0002row11_col12{\n",
              "            background-color:  #bcd2f7;\n",
              "            color:  #000000;\n",
              "        }#T_885f5f90_6cdd_11eb_adfb_0242ac1c0002row11_col14{\n",
              "            background-color:  #d2dbe8;\n",
              "            color:  #000000;\n",
              "        }#T_885f5f90_6cdd_11eb_adfb_0242ac1c0002row12_col2,#T_885f5f90_6cdd_11eb_adfb_0242ac1c0002row16_col4{\n",
              "            background-color:  #ebd3c6;\n",
              "            color:  #000000;\n",
              "        }#T_885f5f90_6cdd_11eb_adfb_0242ac1c0002row12_col3{\n",
              "            background-color:  #eed0c0;\n",
              "            color:  #000000;\n",
              "        }#T_885f5f90_6cdd_11eb_adfb_0242ac1c0002row12_col4{\n",
              "            background-color:  #c9d7f0;\n",
              "            color:  #000000;\n",
              "        }#T_885f5f90_6cdd_11eb_adfb_0242ac1c0002row12_col8{\n",
              "            background-color:  #d6dce4;\n",
              "            color:  #000000;\n",
              "        }#T_885f5f90_6cdd_11eb_adfb_0242ac1c0002row12_col9,#T_885f5f90_6cdd_11eb_adfb_0242ac1c0002row12_col10{\n",
              "            background-color:  #6e90f2;\n",
              "            color:  #000000;\n",
              "        }#T_885f5f90_6cdd_11eb_adfb_0242ac1c0002row12_col11,#T_885f5f90_6cdd_11eb_adfb_0242ac1c0002row15_col8{\n",
              "            background-color:  #92b4fe;\n",
              "            color:  #000000;\n",
              "        }#T_885f5f90_6cdd_11eb_adfb_0242ac1c0002row12_col13,#T_885f5f90_6cdd_11eb_adfb_0242ac1c0002row14_col9{\n",
              "            background-color:  #9fbfff;\n",
              "            color:  #000000;\n",
              "        }#T_885f5f90_6cdd_11eb_adfb_0242ac1c0002row12_col14{\n",
              "            background-color:  #4f69d9;\n",
              "            color:  #000000;\n",
              "        }#T_885f5f90_6cdd_11eb_adfb_0242ac1c0002row12_col15,#T_885f5f90_6cdd_11eb_adfb_0242ac1c0002row15_col9{\n",
              "            background-color:  #4a63d3;\n",
              "            color:  #f1f1f1;\n",
              "        }#T_885f5f90_6cdd_11eb_adfb_0242ac1c0002row12_col16{\n",
              "            background-color:  #f2c9b4;\n",
              "            color:  #000000;\n",
              "        }#T_885f5f90_6cdd_11eb_adfb_0242ac1c0002row13_col6{\n",
              "            background-color:  #cdd9ec;\n",
              "            color:  #000000;\n",
              "        }#T_885f5f90_6cdd_11eb_adfb_0242ac1c0002row13_col8{\n",
              "            background-color:  #e0dbd8;\n",
              "            color:  #000000;\n",
              "        }#T_885f5f90_6cdd_11eb_adfb_0242ac1c0002row14_col2{\n",
              "            background-color:  #5977e3;\n",
              "            color:  #000000;\n",
              "        }#T_885f5f90_6cdd_11eb_adfb_0242ac1c0002row14_col4{\n",
              "            background-color:  #4c66d6;\n",
              "            color:  #000000;\n",
              "        }#T_885f5f90_6cdd_11eb_adfb_0242ac1c0002row14_col11{\n",
              "            background-color:  #b2ccfb;\n",
              "            color:  #000000;\n",
              "        }#T_885f5f90_6cdd_11eb_adfb_0242ac1c0002row15_col3{\n",
              "            background-color:  #a3c2fe;\n",
              "            color:  #000000;\n",
              "        }#T_885f5f90_6cdd_11eb_adfb_0242ac1c0002row15_col6{\n",
              "            background-color:  #7da0f9;\n",
              "            color:  #000000;\n",
              "        }#T_885f5f90_6cdd_11eb_adfb_0242ac1c0002row15_col11,#T_885f5f90_6cdd_11eb_adfb_0242ac1c0002row16_col14{\n",
              "            background-color:  #445acc;\n",
              "            color:  #f1f1f1;\n",
              "        }#T_885f5f90_6cdd_11eb_adfb_0242ac1c0002row16_col2{\n",
              "            background-color:  #f59f80;\n",
              "            color:  #000000;\n",
              "        }#T_885f5f90_6cdd_11eb_adfb_0242ac1c0002row16_col3{\n",
              "            background-color:  #f5a081;\n",
              "            color:  #000000;\n",
              "        }#T_885f5f90_6cdd_11eb_adfb_0242ac1c0002row16_col6{\n",
              "            background-color:  #d3dbe7;\n",
              "            color:  #000000;\n",
              "        }#T_885f5f90_6cdd_11eb_adfb_0242ac1c0002row16_col12{\n",
              "            background-color:  #edd1c2;\n",
              "            color:  #000000;\n",
              "        }#T_885f5f90_6cdd_11eb_adfb_0242ac1c0002row16_col13{\n",
              "            background-color:  #7b9ff9;\n",
              "            color:  #000000;\n",
              "        }#T_885f5f90_6cdd_11eb_adfb_0242ac1c0002row16_col15{\n",
              "            background-color:  #6384eb;\n",
              "            color:  #000000;\n",
              "        }</style><table id=\"T_885f5f90_6cdd_11eb_adfb_0242ac1c0002\" ><thead>    <tr>        <th class=\"blank level0\" ></th>        <th class=\"col_heading level0 col0\" >Age</th>        <th class=\"col_heading level0 col1\" >Gender_Male</th>        <th class=\"col_heading level0 col2\" >Polyuria_Yes</th>        <th class=\"col_heading level0 col3\" >Polydipsia_Yes</th>        <th class=\"col_heading level0 col4\" >sudden weight loss_Yes</th>        <th class=\"col_heading level0 col5\" >weakness_Yes</th>        <th class=\"col_heading level0 col6\" >Polyphagia_Yes</th>        <th class=\"col_heading level0 col7\" >Genital thrush_Yes</th>        <th class=\"col_heading level0 col8\" >visual blurring_Yes</th>        <th class=\"col_heading level0 col9\" >Itching_Yes</th>        <th class=\"col_heading level0 col10\" >Irritability_Yes</th>        <th class=\"col_heading level0 col11\" >delayed healing_Yes</th>        <th class=\"col_heading level0 col12\" >partial paresis_Yes</th>        <th class=\"col_heading level0 col13\" >muscle stiffness_Yes</th>        <th class=\"col_heading level0 col14\" >Alopecia_Yes</th>        <th class=\"col_heading level0 col15\" >Obesity_Yes</th>        <th class=\"col_heading level0 col16\" >class_Positive</th>    </tr></thead><tbody>\n",
              "                <tr>\n",
              "                        <th id=\"T_885f5f90_6cdd_11eb_adfb_0242ac1c0002level0_row0\" class=\"row_heading level0 row0\" >Age</th>\n",
              "                        <td id=\"T_885f5f90_6cdd_11eb_adfb_0242ac1c0002row0_col0\" class=\"data row0 col0\" >1.00</td>\n",
              "                        <td id=\"T_885f5f90_6cdd_11eb_adfb_0242ac1c0002row0_col1\" class=\"data row0 col1\" >0.06</td>\n",
              "                        <td id=\"T_885f5f90_6cdd_11eb_adfb_0242ac1c0002row0_col2\" class=\"data row0 col2\" >0.20</td>\n",
              "                        <td id=\"T_885f5f90_6cdd_11eb_adfb_0242ac1c0002row0_col3\" class=\"data row0 col3\" >0.14</td>\n",
              "                        <td id=\"T_885f5f90_6cdd_11eb_adfb_0242ac1c0002row0_col4\" class=\"data row0 col4\" >0.06</td>\n",
              "                        <td id=\"T_885f5f90_6cdd_11eb_adfb_0242ac1c0002row0_col5\" class=\"data row0 col5\" >0.22</td>\n",
              "                        <td id=\"T_885f5f90_6cdd_11eb_adfb_0242ac1c0002row0_col6\" class=\"data row0 col6\" >0.32</td>\n",
              "                        <td id=\"T_885f5f90_6cdd_11eb_adfb_0242ac1c0002row0_col7\" class=\"data row0 col7\" >0.10</td>\n",
              "                        <td id=\"T_885f5f90_6cdd_11eb_adfb_0242ac1c0002row0_col8\" class=\"data row0 col8\" >0.40</td>\n",
              "                        <td id=\"T_885f5f90_6cdd_11eb_adfb_0242ac1c0002row0_col9\" class=\"data row0 col9\" >0.30</td>\n",
              "                        <td id=\"T_885f5f90_6cdd_11eb_adfb_0242ac1c0002row0_col10\" class=\"data row0 col10\" >0.20</td>\n",
              "                        <td id=\"T_885f5f90_6cdd_11eb_adfb_0242ac1c0002row0_col11\" class=\"data row0 col11\" >0.26</td>\n",
              "                        <td id=\"T_885f5f90_6cdd_11eb_adfb_0242ac1c0002row0_col12\" class=\"data row0 col12\" >0.23</td>\n",
              "                        <td id=\"T_885f5f90_6cdd_11eb_adfb_0242ac1c0002row0_col13\" class=\"data row0 col13\" >0.31</td>\n",
              "                        <td id=\"T_885f5f90_6cdd_11eb_adfb_0242ac1c0002row0_col14\" class=\"data row0 col14\" >0.32</td>\n",
              "                        <td id=\"T_885f5f90_6cdd_11eb_adfb_0242ac1c0002row0_col15\" class=\"data row0 col15\" >0.14</td>\n",
              "                        <td id=\"T_885f5f90_6cdd_11eb_adfb_0242ac1c0002row0_col16\" class=\"data row0 col16\" >0.11</td>\n",
              "            </tr>\n",
              "            <tr>\n",
              "                        <th id=\"T_885f5f90_6cdd_11eb_adfb_0242ac1c0002level0_row1\" class=\"row_heading level0 row1\" >Gender_Male</th>\n",
              "                        <td id=\"T_885f5f90_6cdd_11eb_adfb_0242ac1c0002row1_col0\" class=\"data row1 col0\" >0.06</td>\n",
              "                        <td id=\"T_885f5f90_6cdd_11eb_adfb_0242ac1c0002row1_col1\" class=\"data row1 col1\" >1.00</td>\n",
              "                        <td id=\"T_885f5f90_6cdd_11eb_adfb_0242ac1c0002row1_col2\" class=\"data row1 col2\" >-0.27</td>\n",
              "                        <td id=\"T_885f5f90_6cdd_11eb_adfb_0242ac1c0002row1_col3\" class=\"data row1 col3\" >-0.31</td>\n",
              "                        <td id=\"T_885f5f90_6cdd_11eb_adfb_0242ac1c0002row1_col4\" class=\"data row1 col4\" >-0.28</td>\n",
              "                        <td id=\"T_885f5f90_6cdd_11eb_adfb_0242ac1c0002row1_col5\" class=\"data row1 col5\" >-0.12</td>\n",
              "                        <td id=\"T_885f5f90_6cdd_11eb_adfb_0242ac1c0002row1_col6\" class=\"data row1 col6\" >-0.22</td>\n",
              "                        <td id=\"T_885f5f90_6cdd_11eb_adfb_0242ac1c0002row1_col7\" class=\"data row1 col7\" >0.21</td>\n",
              "                        <td id=\"T_885f5f90_6cdd_11eb_adfb_0242ac1c0002row1_col8\" class=\"data row1 col8\" >-0.21</td>\n",
              "                        <td id=\"T_885f5f90_6cdd_11eb_adfb_0242ac1c0002row1_col9\" class=\"data row1 col9\" >-0.05</td>\n",
              "                        <td id=\"T_885f5f90_6cdd_11eb_adfb_0242ac1c0002row1_col10\" class=\"data row1 col10\" >-0.01</td>\n",
              "                        <td id=\"T_885f5f90_6cdd_11eb_adfb_0242ac1c0002row1_col11\" class=\"data row1 col11\" >-0.10</td>\n",
              "                        <td id=\"T_885f5f90_6cdd_11eb_adfb_0242ac1c0002row1_col12\" class=\"data row1 col12\" >-0.33</td>\n",
              "                        <td id=\"T_885f5f90_6cdd_11eb_adfb_0242ac1c0002row1_col13\" class=\"data row1 col13\" >-0.09</td>\n",
              "                        <td id=\"T_885f5f90_6cdd_11eb_adfb_0242ac1c0002row1_col14\" class=\"data row1 col14\" >0.33</td>\n",
              "                        <td id=\"T_885f5f90_6cdd_11eb_adfb_0242ac1c0002row1_col15\" class=\"data row1 col15\" >-0.01</td>\n",
              "                        <td id=\"T_885f5f90_6cdd_11eb_adfb_0242ac1c0002row1_col16\" class=\"data row1 col16\" >-0.45</td>\n",
              "            </tr>\n",
              "            <tr>\n",
              "                        <th id=\"T_885f5f90_6cdd_11eb_adfb_0242ac1c0002level0_row2\" class=\"row_heading level0 row2\" >Polyuria_Yes</th>\n",
              "                        <td id=\"T_885f5f90_6cdd_11eb_adfb_0242ac1c0002row2_col0\" class=\"data row2 col0\" >0.20</td>\n",
              "                        <td id=\"T_885f5f90_6cdd_11eb_adfb_0242ac1c0002row2_col1\" class=\"data row2 col1\" >-0.27</td>\n",
              "                        <td id=\"T_885f5f90_6cdd_11eb_adfb_0242ac1c0002row2_col2\" class=\"data row2 col2\" >1.00</td>\n",
              "                        <td id=\"T_885f5f90_6cdd_11eb_adfb_0242ac1c0002row2_col3\" class=\"data row2 col3\" >0.60</td>\n",
              "                        <td id=\"T_885f5f90_6cdd_11eb_adfb_0242ac1c0002row2_col4\" class=\"data row2 col4\" >0.45</td>\n",
              "                        <td id=\"T_885f5f90_6cdd_11eb_adfb_0242ac1c0002row2_col5\" class=\"data row2 col5\" >0.26</td>\n",
              "                        <td id=\"T_885f5f90_6cdd_11eb_adfb_0242ac1c0002row2_col6\" class=\"data row2 col6\" >0.37</td>\n",
              "                        <td id=\"T_885f5f90_6cdd_11eb_adfb_0242ac1c0002row2_col7\" class=\"data row2 col7\" >0.09</td>\n",
              "                        <td id=\"T_885f5f90_6cdd_11eb_adfb_0242ac1c0002row2_col8\" class=\"data row2 col8\" >0.24</td>\n",
              "                        <td id=\"T_885f5f90_6cdd_11eb_adfb_0242ac1c0002row2_col9\" class=\"data row2 col9\" >0.09</td>\n",
              "                        <td id=\"T_885f5f90_6cdd_11eb_adfb_0242ac1c0002row2_col10\" class=\"data row2 col10\" >0.24</td>\n",
              "                        <td id=\"T_885f5f90_6cdd_11eb_adfb_0242ac1c0002row2_col11\" class=\"data row2 col11\" >0.15</td>\n",
              "                        <td id=\"T_885f5f90_6cdd_11eb_adfb_0242ac1c0002row2_col12\" class=\"data row2 col12\" >0.44</td>\n",
              "                        <td id=\"T_885f5f90_6cdd_11eb_adfb_0242ac1c0002row2_col13\" class=\"data row2 col13\" >0.15</td>\n",
              "                        <td id=\"T_885f5f90_6cdd_11eb_adfb_0242ac1c0002row2_col14\" class=\"data row2 col14\" >-0.14</td>\n",
              "                        <td id=\"T_885f5f90_6cdd_11eb_adfb_0242ac1c0002row2_col15\" class=\"data row2 col15\" >0.13</td>\n",
              "                        <td id=\"T_885f5f90_6cdd_11eb_adfb_0242ac1c0002row2_col16\" class=\"data row2 col16\" >0.67</td>\n",
              "            </tr>\n",
              "            <tr>\n",
              "                        <th id=\"T_885f5f90_6cdd_11eb_adfb_0242ac1c0002level0_row3\" class=\"row_heading level0 row3\" >Polydipsia_Yes</th>\n",
              "                        <td id=\"T_885f5f90_6cdd_11eb_adfb_0242ac1c0002row3_col0\" class=\"data row3 col0\" >0.14</td>\n",
              "                        <td id=\"T_885f5f90_6cdd_11eb_adfb_0242ac1c0002row3_col1\" class=\"data row3 col1\" >-0.31</td>\n",
              "                        <td id=\"T_885f5f90_6cdd_11eb_adfb_0242ac1c0002row3_col2\" class=\"data row3 col2\" >0.60</td>\n",
              "                        <td id=\"T_885f5f90_6cdd_11eb_adfb_0242ac1c0002row3_col3\" class=\"data row3 col3\" >1.00</td>\n",
              "                        <td id=\"T_885f5f90_6cdd_11eb_adfb_0242ac1c0002row3_col4\" class=\"data row3 col4\" >0.41</td>\n",
              "                        <td id=\"T_885f5f90_6cdd_11eb_adfb_0242ac1c0002row3_col5\" class=\"data row3 col5\" >0.33</td>\n",
              "                        <td id=\"T_885f5f90_6cdd_11eb_adfb_0242ac1c0002row3_col6\" class=\"data row3 col6\" >0.32</td>\n",
              "                        <td id=\"T_885f5f90_6cdd_11eb_adfb_0242ac1c0002row3_col7\" class=\"data row3 col7\" >0.03</td>\n",
              "                        <td id=\"T_885f5f90_6cdd_11eb_adfb_0242ac1c0002row3_col8\" class=\"data row3 col8\" >0.33</td>\n",
              "                        <td id=\"T_885f5f90_6cdd_11eb_adfb_0242ac1c0002row3_col9\" class=\"data row3 col9\" >0.13</td>\n",
              "                        <td id=\"T_885f5f90_6cdd_11eb_adfb_0242ac1c0002row3_col10\" class=\"data row3 col10\" >0.20</td>\n",
              "                        <td id=\"T_885f5f90_6cdd_11eb_adfb_0242ac1c0002row3_col11\" class=\"data row3 col11\" >0.12</td>\n",
              "                        <td id=\"T_885f5f90_6cdd_11eb_adfb_0242ac1c0002row3_col12\" class=\"data row3 col12\" >0.44</td>\n",
              "                        <td id=\"T_885f5f90_6cdd_11eb_adfb_0242ac1c0002row3_col13\" class=\"data row3 col13\" >0.18</td>\n",
              "                        <td id=\"T_885f5f90_6cdd_11eb_adfb_0242ac1c0002row3_col14\" class=\"data row3 col14\" >-0.31</td>\n",
              "                        <td id=\"T_885f5f90_6cdd_11eb_adfb_0242ac1c0002row3_col15\" class=\"data row3 col15\" >0.10</td>\n",
              "                        <td id=\"T_885f5f90_6cdd_11eb_adfb_0242ac1c0002row3_col16\" class=\"data row3 col16\" >0.65</td>\n",
              "            </tr>\n",
              "            <tr>\n",
              "                        <th id=\"T_885f5f90_6cdd_11eb_adfb_0242ac1c0002level0_row4\" class=\"row_heading level0 row4\" >sudden weight loss_Yes</th>\n",
              "                        <td id=\"T_885f5f90_6cdd_11eb_adfb_0242ac1c0002row4_col0\" class=\"data row4 col0\" >0.06</td>\n",
              "                        <td id=\"T_885f5f90_6cdd_11eb_adfb_0242ac1c0002row4_col1\" class=\"data row4 col1\" >-0.28</td>\n",
              "                        <td id=\"T_885f5f90_6cdd_11eb_adfb_0242ac1c0002row4_col2\" class=\"data row4 col2\" >0.45</td>\n",
              "                        <td id=\"T_885f5f90_6cdd_11eb_adfb_0242ac1c0002row4_col3\" class=\"data row4 col3\" >0.41</td>\n",
              "                        <td id=\"T_885f5f90_6cdd_11eb_adfb_0242ac1c0002row4_col4\" class=\"data row4 col4\" >1.00</td>\n",
              "                        <td id=\"T_885f5f90_6cdd_11eb_adfb_0242ac1c0002row4_col5\" class=\"data row4 col5\" >0.28</td>\n",
              "                        <td id=\"T_885f5f90_6cdd_11eb_adfb_0242ac1c0002row4_col6\" class=\"data row4 col6\" >0.24</td>\n",
              "                        <td id=\"T_885f5f90_6cdd_11eb_adfb_0242ac1c0002row4_col7\" class=\"data row4 col7\" >0.09</td>\n",
              "                        <td id=\"T_885f5f90_6cdd_11eb_adfb_0242ac1c0002row4_col8\" class=\"data row4 col8\" >0.07</td>\n",
              "                        <td id=\"T_885f5f90_6cdd_11eb_adfb_0242ac1c0002row4_col9\" class=\"data row4 col9\" >-0.00</td>\n",
              "                        <td id=\"T_885f5f90_6cdd_11eb_adfb_0242ac1c0002row4_col10\" class=\"data row4 col10\" >0.14</td>\n",
              "                        <td id=\"T_885f5f90_6cdd_11eb_adfb_0242ac1c0002row4_col11\" class=\"data row4 col11\" >0.09</td>\n",
              "                        <td id=\"T_885f5f90_6cdd_11eb_adfb_0242ac1c0002row4_col12\" class=\"data row4 col12\" >0.26</td>\n",
              "                        <td id=\"T_885f5f90_6cdd_11eb_adfb_0242ac1c0002row4_col13\" class=\"data row4 col13\" >0.11</td>\n",
              "                        <td id=\"T_885f5f90_6cdd_11eb_adfb_0242ac1c0002row4_col14\" class=\"data row4 col14\" >-0.20</td>\n",
              "                        <td id=\"T_885f5f90_6cdd_11eb_adfb_0242ac1c0002row4_col15\" class=\"data row4 col15\" >0.17</td>\n",
              "                        <td id=\"T_885f5f90_6cdd_11eb_adfb_0242ac1c0002row4_col16\" class=\"data row4 col16\" >0.44</td>\n",
              "            </tr>\n",
              "            <tr>\n",
              "                        <th id=\"T_885f5f90_6cdd_11eb_adfb_0242ac1c0002level0_row5\" class=\"row_heading level0 row5\" >weakness_Yes</th>\n",
              "                        <td id=\"T_885f5f90_6cdd_11eb_adfb_0242ac1c0002row5_col0\" class=\"data row5 col0\" >0.22</td>\n",
              "                        <td id=\"T_885f5f90_6cdd_11eb_adfb_0242ac1c0002row5_col1\" class=\"data row5 col1\" >-0.12</td>\n",
              "                        <td id=\"T_885f5f90_6cdd_11eb_adfb_0242ac1c0002row5_col2\" class=\"data row5 col2\" >0.26</td>\n",
              "                        <td id=\"T_885f5f90_6cdd_11eb_adfb_0242ac1c0002row5_col3\" class=\"data row5 col3\" >0.33</td>\n",
              "                        <td id=\"T_885f5f90_6cdd_11eb_adfb_0242ac1c0002row5_col4\" class=\"data row5 col4\" >0.28</td>\n",
              "                        <td id=\"T_885f5f90_6cdd_11eb_adfb_0242ac1c0002row5_col5\" class=\"data row5 col5\" >1.00</td>\n",
              "                        <td id=\"T_885f5f90_6cdd_11eb_adfb_0242ac1c0002row5_col6\" class=\"data row5 col6\" >0.18</td>\n",
              "                        <td id=\"T_885f5f90_6cdd_11eb_adfb_0242ac1c0002row5_col7\" class=\"data row5 col7\" >0.03</td>\n",
              "                        <td id=\"T_885f5f90_6cdd_11eb_adfb_0242ac1c0002row5_col8\" class=\"data row5 col8\" >0.30</td>\n",
              "                        <td id=\"T_885f5f90_6cdd_11eb_adfb_0242ac1c0002row5_col9\" class=\"data row5 col9\" >0.31</td>\n",
              "                        <td id=\"T_885f5f90_6cdd_11eb_adfb_0242ac1c0002row5_col10\" class=\"data row5 col10\" >0.15</td>\n",
              "                        <td id=\"T_885f5f90_6cdd_11eb_adfb_0242ac1c0002row5_col11\" class=\"data row5 col11\" >0.34</td>\n",
              "                        <td id=\"T_885f5f90_6cdd_11eb_adfb_0242ac1c0002row5_col12\" class=\"data row5 col12\" >0.27</td>\n",
              "                        <td id=\"T_885f5f90_6cdd_11eb_adfb_0242ac1c0002row5_col13\" class=\"data row5 col13\" >0.26</td>\n",
              "                        <td id=\"T_885f5f90_6cdd_11eb_adfb_0242ac1c0002row5_col14\" class=\"data row5 col14\" >0.09</td>\n",
              "                        <td id=\"T_885f5f90_6cdd_11eb_adfb_0242ac1c0002row5_col15\" class=\"data row5 col15\" >0.05</td>\n",
              "                        <td id=\"T_885f5f90_6cdd_11eb_adfb_0242ac1c0002row5_col16\" class=\"data row5 col16\" >0.24</td>\n",
              "            </tr>\n",
              "            <tr>\n",
              "                        <th id=\"T_885f5f90_6cdd_11eb_adfb_0242ac1c0002level0_row6\" class=\"row_heading level0 row6\" >Polyphagia_Yes</th>\n",
              "                        <td id=\"T_885f5f90_6cdd_11eb_adfb_0242ac1c0002row6_col0\" class=\"data row6 col0\" >0.32</td>\n",
              "                        <td id=\"T_885f5f90_6cdd_11eb_adfb_0242ac1c0002row6_col1\" class=\"data row6 col1\" >-0.22</td>\n",
              "                        <td id=\"T_885f5f90_6cdd_11eb_adfb_0242ac1c0002row6_col2\" class=\"data row6 col2\" >0.37</td>\n",
              "                        <td id=\"T_885f5f90_6cdd_11eb_adfb_0242ac1c0002row6_col3\" class=\"data row6 col3\" >0.32</td>\n",
              "                        <td id=\"T_885f5f90_6cdd_11eb_adfb_0242ac1c0002row6_col4\" class=\"data row6 col4\" >0.24</td>\n",
              "                        <td id=\"T_885f5f90_6cdd_11eb_adfb_0242ac1c0002row6_col5\" class=\"data row6 col5\" >0.18</td>\n",
              "                        <td id=\"T_885f5f90_6cdd_11eb_adfb_0242ac1c0002row6_col6\" class=\"data row6 col6\" >1.00</td>\n",
              "                        <td id=\"T_885f5f90_6cdd_11eb_adfb_0242ac1c0002row6_col7\" class=\"data row6 col7\" >-0.06</td>\n",
              "                        <td id=\"T_885f5f90_6cdd_11eb_adfb_0242ac1c0002row6_col8\" class=\"data row6 col8\" >0.29</td>\n",
              "                        <td id=\"T_885f5f90_6cdd_11eb_adfb_0242ac1c0002row6_col9\" class=\"data row6 col9\" >0.14</td>\n",
              "                        <td id=\"T_885f5f90_6cdd_11eb_adfb_0242ac1c0002row6_col10\" class=\"data row6 col10\" >0.24</td>\n",
              "                        <td id=\"T_885f5f90_6cdd_11eb_adfb_0242ac1c0002row6_col11\" class=\"data row6 col11\" >0.26</td>\n",
              "                        <td id=\"T_885f5f90_6cdd_11eb_adfb_0242ac1c0002row6_col12\" class=\"data row6 col12\" >0.37</td>\n",
              "                        <td id=\"T_885f5f90_6cdd_11eb_adfb_0242ac1c0002row6_col13\" class=\"data row6 col13\" >0.32</td>\n",
              "                        <td id=\"T_885f5f90_6cdd_11eb_adfb_0242ac1c0002row6_col14\" class=\"data row6 col14\" >-0.05</td>\n",
              "                        <td id=\"T_885f5f90_6cdd_11eb_adfb_0242ac1c0002row6_col15\" class=\"data row6 col15\" >0.03</td>\n",
              "                        <td id=\"T_885f5f90_6cdd_11eb_adfb_0242ac1c0002row6_col16\" class=\"data row6 col16\" >0.34</td>\n",
              "            </tr>\n",
              "            <tr>\n",
              "                        <th id=\"T_885f5f90_6cdd_11eb_adfb_0242ac1c0002level0_row7\" class=\"row_heading level0 row7\" >Genital thrush_Yes</th>\n",
              "                        <td id=\"T_885f5f90_6cdd_11eb_adfb_0242ac1c0002row7_col0\" class=\"data row7 col0\" >0.10</td>\n",
              "                        <td id=\"T_885f5f90_6cdd_11eb_adfb_0242ac1c0002row7_col1\" class=\"data row7 col1\" >0.21</td>\n",
              "                        <td id=\"T_885f5f90_6cdd_11eb_adfb_0242ac1c0002row7_col2\" class=\"data row7 col2\" >0.09</td>\n",
              "                        <td id=\"T_885f5f90_6cdd_11eb_adfb_0242ac1c0002row7_col3\" class=\"data row7 col3\" >0.03</td>\n",
              "                        <td id=\"T_885f5f90_6cdd_11eb_adfb_0242ac1c0002row7_col4\" class=\"data row7 col4\" >0.09</td>\n",
              "                        <td id=\"T_885f5f90_6cdd_11eb_adfb_0242ac1c0002row7_col5\" class=\"data row7 col5\" >0.03</td>\n",
              "                        <td id=\"T_885f5f90_6cdd_11eb_adfb_0242ac1c0002row7_col6\" class=\"data row7 col6\" >-0.06</td>\n",
              "                        <td id=\"T_885f5f90_6cdd_11eb_adfb_0242ac1c0002row7_col7\" class=\"data row7 col7\" >1.00</td>\n",
              "                        <td id=\"T_885f5f90_6cdd_11eb_adfb_0242ac1c0002row7_col8\" class=\"data row7 col8\" >-0.15</td>\n",
              "                        <td id=\"T_885f5f90_6cdd_11eb_adfb_0242ac1c0002row7_col9\" class=\"data row7 col9\" >0.13</td>\n",
              "                        <td id=\"T_885f5f90_6cdd_11eb_adfb_0242ac1c0002row7_col10\" class=\"data row7 col10\" >0.16</td>\n",
              "                        <td id=\"T_885f5f90_6cdd_11eb_adfb_0242ac1c0002row7_col11\" class=\"data row7 col11\" >0.14</td>\n",
              "                        <td id=\"T_885f5f90_6cdd_11eb_adfb_0242ac1c0002row7_col12\" class=\"data row7 col12\" >-0.20</td>\n",
              "                        <td id=\"T_885f5f90_6cdd_11eb_adfb_0242ac1c0002row7_col13\" class=\"data row7 col13\" >-0.10</td>\n",
              "                        <td id=\"T_885f5f90_6cdd_11eb_adfb_0242ac1c0002row7_col14\" class=\"data row7 col14\" >0.20</td>\n",
              "                        <td id=\"T_885f5f90_6cdd_11eb_adfb_0242ac1c0002row7_col15\" class=\"data row7 col15\" >0.05</td>\n",
              "                        <td id=\"T_885f5f90_6cdd_11eb_adfb_0242ac1c0002row7_col16\" class=\"data row7 col16\" >0.11</td>\n",
              "            </tr>\n",
              "            <tr>\n",
              "                        <th id=\"T_885f5f90_6cdd_11eb_adfb_0242ac1c0002level0_row8\" class=\"row_heading level0 row8\" >visual blurring_Yes</th>\n",
              "                        <td id=\"T_885f5f90_6cdd_11eb_adfb_0242ac1c0002row8_col0\" class=\"data row8 col0\" >0.40</td>\n",
              "                        <td id=\"T_885f5f90_6cdd_11eb_adfb_0242ac1c0002row8_col1\" class=\"data row8 col1\" >-0.21</td>\n",
              "                        <td id=\"T_885f5f90_6cdd_11eb_adfb_0242ac1c0002row8_col2\" class=\"data row8 col2\" >0.24</td>\n",
              "                        <td id=\"T_885f5f90_6cdd_11eb_adfb_0242ac1c0002row8_col3\" class=\"data row8 col3\" >0.33</td>\n",
              "                        <td id=\"T_885f5f90_6cdd_11eb_adfb_0242ac1c0002row8_col4\" class=\"data row8 col4\" >0.07</td>\n",
              "                        <td id=\"T_885f5f90_6cdd_11eb_adfb_0242ac1c0002row8_col5\" class=\"data row8 col5\" >0.30</td>\n",
              "                        <td id=\"T_885f5f90_6cdd_11eb_adfb_0242ac1c0002row8_col6\" class=\"data row8 col6\" >0.29</td>\n",
              "                        <td id=\"T_885f5f90_6cdd_11eb_adfb_0242ac1c0002row8_col7\" class=\"data row8 col7\" >-0.15</td>\n",
              "                        <td id=\"T_885f5f90_6cdd_11eb_adfb_0242ac1c0002row8_col8\" class=\"data row8 col8\" >1.00</td>\n",
              "                        <td id=\"T_885f5f90_6cdd_11eb_adfb_0242ac1c0002row8_col9\" class=\"data row8 col9\" >0.29</td>\n",
              "                        <td id=\"T_885f5f90_6cdd_11eb_adfb_0242ac1c0002row8_col10\" class=\"data row8 col10\" >0.08</td>\n",
              "                        <td id=\"T_885f5f90_6cdd_11eb_adfb_0242ac1c0002row8_col11\" class=\"data row8 col11\" >0.18</td>\n",
              "                        <td id=\"T_885f5f90_6cdd_11eb_adfb_0242ac1c0002row8_col12\" class=\"data row8 col12\" >0.36</td>\n",
              "                        <td id=\"T_885f5f90_6cdd_11eb_adfb_0242ac1c0002row8_col13\" class=\"data row8 col13\" >0.41</td>\n",
              "                        <td id=\"T_885f5f90_6cdd_11eb_adfb_0242ac1c0002row8_col14\" class=\"data row8 col14\" >0.01</td>\n",
              "                        <td id=\"T_885f5f90_6cdd_11eb_adfb_0242ac1c0002row8_col15\" class=\"data row8 col15\" >0.11</td>\n",
              "                        <td id=\"T_885f5f90_6cdd_11eb_adfb_0242ac1c0002row8_col16\" class=\"data row8 col16\" >0.25</td>\n",
              "            </tr>\n",
              "            <tr>\n",
              "                        <th id=\"T_885f5f90_6cdd_11eb_adfb_0242ac1c0002level0_row9\" class=\"row_heading level0 row9\" >Itching_Yes</th>\n",
              "                        <td id=\"T_885f5f90_6cdd_11eb_adfb_0242ac1c0002row9_col0\" class=\"data row9 col0\" >0.30</td>\n",
              "                        <td id=\"T_885f5f90_6cdd_11eb_adfb_0242ac1c0002row9_col1\" class=\"data row9 col1\" >-0.05</td>\n",
              "                        <td id=\"T_885f5f90_6cdd_11eb_adfb_0242ac1c0002row9_col2\" class=\"data row9 col2\" >0.09</td>\n",
              "                        <td id=\"T_885f5f90_6cdd_11eb_adfb_0242ac1c0002row9_col3\" class=\"data row9 col3\" >0.13</td>\n",
              "                        <td id=\"T_885f5f90_6cdd_11eb_adfb_0242ac1c0002row9_col4\" class=\"data row9 col4\" >-0.00</td>\n",
              "                        <td id=\"T_885f5f90_6cdd_11eb_adfb_0242ac1c0002row9_col5\" class=\"data row9 col5\" >0.31</td>\n",
              "                        <td id=\"T_885f5f90_6cdd_11eb_adfb_0242ac1c0002row9_col6\" class=\"data row9 col6\" >0.14</td>\n",
              "                        <td id=\"T_885f5f90_6cdd_11eb_adfb_0242ac1c0002row9_col7\" class=\"data row9 col7\" >0.13</td>\n",
              "                        <td id=\"T_885f5f90_6cdd_11eb_adfb_0242ac1c0002row9_col8\" class=\"data row9 col8\" >0.29</td>\n",
              "                        <td id=\"T_885f5f90_6cdd_11eb_adfb_0242ac1c0002row9_col9\" class=\"data row9 col9\" >1.00</td>\n",
              "                        <td id=\"T_885f5f90_6cdd_11eb_adfb_0242ac1c0002row9_col10\" class=\"data row9 col10\" >0.11</td>\n",
              "                        <td id=\"T_885f5f90_6cdd_11eb_adfb_0242ac1c0002row9_col11\" class=\"data row9 col11\" >0.45</td>\n",
              "                        <td id=\"T_885f5f90_6cdd_11eb_adfb_0242ac1c0002row9_col12\" class=\"data row9 col12\" >0.12</td>\n",
              "                        <td id=\"T_885f5f90_6cdd_11eb_adfb_0242ac1c0002row9_col13\" class=\"data row9 col13\" >0.22</td>\n",
              "                        <td id=\"T_885f5f90_6cdd_11eb_adfb_0242ac1c0002row9_col14\" class=\"data row9 col14\" >0.27</td>\n",
              "                        <td id=\"T_885f5f90_6cdd_11eb_adfb_0242ac1c0002row9_col15\" class=\"data row9 col15\" >0.00</td>\n",
              "                        <td id=\"T_885f5f90_6cdd_11eb_adfb_0242ac1c0002row9_col16\" class=\"data row9 col16\" >-0.01</td>\n",
              "            </tr>\n",
              "            <tr>\n",
              "                        <th id=\"T_885f5f90_6cdd_11eb_adfb_0242ac1c0002level0_row10\" class=\"row_heading level0 row10\" >Irritability_Yes</th>\n",
              "                        <td id=\"T_885f5f90_6cdd_11eb_adfb_0242ac1c0002row10_col0\" class=\"data row10 col0\" >0.20</td>\n",
              "                        <td id=\"T_885f5f90_6cdd_11eb_adfb_0242ac1c0002row10_col1\" class=\"data row10 col1\" >-0.01</td>\n",
              "                        <td id=\"T_885f5f90_6cdd_11eb_adfb_0242ac1c0002row10_col2\" class=\"data row10 col2\" >0.24</td>\n",
              "                        <td id=\"T_885f5f90_6cdd_11eb_adfb_0242ac1c0002row10_col3\" class=\"data row10 col3\" >0.20</td>\n",
              "                        <td id=\"T_885f5f90_6cdd_11eb_adfb_0242ac1c0002row10_col4\" class=\"data row10 col4\" >0.14</td>\n",
              "                        <td id=\"T_885f5f90_6cdd_11eb_adfb_0242ac1c0002row10_col5\" class=\"data row10 col5\" >0.15</td>\n",
              "                        <td id=\"T_885f5f90_6cdd_11eb_adfb_0242ac1c0002row10_col6\" class=\"data row10 col6\" >0.24</td>\n",
              "                        <td id=\"T_885f5f90_6cdd_11eb_adfb_0242ac1c0002row10_col7\" class=\"data row10 col7\" >0.16</td>\n",
              "                        <td id=\"T_885f5f90_6cdd_11eb_adfb_0242ac1c0002row10_col8\" class=\"data row10 col8\" >0.08</td>\n",
              "                        <td id=\"T_885f5f90_6cdd_11eb_adfb_0242ac1c0002row10_col9\" class=\"data row10 col9\" >0.11</td>\n",
              "                        <td id=\"T_885f5f90_6cdd_11eb_adfb_0242ac1c0002row10_col10\" class=\"data row10 col10\" >1.00</td>\n",
              "                        <td id=\"T_885f5f90_6cdd_11eb_adfb_0242ac1c0002row10_col11\" class=\"data row10 col11\" >0.13</td>\n",
              "                        <td id=\"T_885f5f90_6cdd_11eb_adfb_0242ac1c0002row10_col12\" class=\"data row10 col12\" >0.15</td>\n",
              "                        <td id=\"T_885f5f90_6cdd_11eb_adfb_0242ac1c0002row10_col13\" class=\"data row10 col13\" >0.20</td>\n",
              "                        <td id=\"T_885f5f90_6cdd_11eb_adfb_0242ac1c0002row10_col14\" class=\"data row10 col14\" >0.04</td>\n",
              "                        <td id=\"T_885f5f90_6cdd_11eb_adfb_0242ac1c0002row10_col15\" class=\"data row10 col15\" >0.13</td>\n",
              "                        <td id=\"T_885f5f90_6cdd_11eb_adfb_0242ac1c0002row10_col16\" class=\"data row10 col16\" >0.30</td>\n",
              "            </tr>\n",
              "            <tr>\n",
              "                        <th id=\"T_885f5f90_6cdd_11eb_adfb_0242ac1c0002level0_row11\" class=\"row_heading level0 row11\" >delayed healing_Yes</th>\n",
              "                        <td id=\"T_885f5f90_6cdd_11eb_adfb_0242ac1c0002row11_col0\" class=\"data row11 col0\" >0.26</td>\n",
              "                        <td id=\"T_885f5f90_6cdd_11eb_adfb_0242ac1c0002row11_col1\" class=\"data row11 col1\" >-0.10</td>\n",
              "                        <td id=\"T_885f5f90_6cdd_11eb_adfb_0242ac1c0002row11_col2\" class=\"data row11 col2\" >0.15</td>\n",
              "                        <td id=\"T_885f5f90_6cdd_11eb_adfb_0242ac1c0002row11_col3\" class=\"data row11 col3\" >0.12</td>\n",
              "                        <td id=\"T_885f5f90_6cdd_11eb_adfb_0242ac1c0002row11_col4\" class=\"data row11 col4\" >0.09</td>\n",
              "                        <td id=\"T_885f5f90_6cdd_11eb_adfb_0242ac1c0002row11_col5\" class=\"data row11 col5\" >0.34</td>\n",
              "                        <td id=\"T_885f5f90_6cdd_11eb_adfb_0242ac1c0002row11_col6\" class=\"data row11 col6\" >0.26</td>\n",
              "                        <td id=\"T_885f5f90_6cdd_11eb_adfb_0242ac1c0002row11_col7\" class=\"data row11 col7\" >0.14</td>\n",
              "                        <td id=\"T_885f5f90_6cdd_11eb_adfb_0242ac1c0002row11_col8\" class=\"data row11 col8\" >0.18</td>\n",
              "                        <td id=\"T_885f5f90_6cdd_11eb_adfb_0242ac1c0002row11_col9\" class=\"data row11 col9\" >0.45</td>\n",
              "                        <td id=\"T_885f5f90_6cdd_11eb_adfb_0242ac1c0002row11_col10\" class=\"data row11 col10\" >0.13</td>\n",
              "                        <td id=\"T_885f5f90_6cdd_11eb_adfb_0242ac1c0002row11_col11\" class=\"data row11 col11\" >1.00</td>\n",
              "                        <td id=\"T_885f5f90_6cdd_11eb_adfb_0242ac1c0002row11_col12\" class=\"data row11 col12\" >0.19</td>\n",
              "                        <td id=\"T_885f5f90_6cdd_11eb_adfb_0242ac1c0002row11_col13\" class=\"data row11 col13\" >0.25</td>\n",
              "                        <td id=\"T_885f5f90_6cdd_11eb_adfb_0242ac1c0002row11_col14\" class=\"data row11 col14\" >0.29</td>\n",
              "                        <td id=\"T_885f5f90_6cdd_11eb_adfb_0242ac1c0002row11_col15\" class=\"data row11 col15\" >-0.07</td>\n",
              "                        <td id=\"T_885f5f90_6cdd_11eb_adfb_0242ac1c0002row11_col16\" class=\"data row11 col16\" >0.05</td>\n",
              "            </tr>\n",
              "            <tr>\n",
              "                        <th id=\"T_885f5f90_6cdd_11eb_adfb_0242ac1c0002level0_row12\" class=\"row_heading level0 row12\" >partial paresis_Yes</th>\n",
              "                        <td id=\"T_885f5f90_6cdd_11eb_adfb_0242ac1c0002row12_col0\" class=\"data row12 col0\" >0.23</td>\n",
              "                        <td id=\"T_885f5f90_6cdd_11eb_adfb_0242ac1c0002row12_col1\" class=\"data row12 col1\" >-0.33</td>\n",
              "                        <td id=\"T_885f5f90_6cdd_11eb_adfb_0242ac1c0002row12_col2\" class=\"data row12 col2\" >0.44</td>\n",
              "                        <td id=\"T_885f5f90_6cdd_11eb_adfb_0242ac1c0002row12_col3\" class=\"data row12 col3\" >0.44</td>\n",
              "                        <td id=\"T_885f5f90_6cdd_11eb_adfb_0242ac1c0002row12_col4\" class=\"data row12 col4\" >0.26</td>\n",
              "                        <td id=\"T_885f5f90_6cdd_11eb_adfb_0242ac1c0002row12_col5\" class=\"data row12 col5\" >0.27</td>\n",
              "                        <td id=\"T_885f5f90_6cdd_11eb_adfb_0242ac1c0002row12_col6\" class=\"data row12 col6\" >0.37</td>\n",
              "                        <td id=\"T_885f5f90_6cdd_11eb_adfb_0242ac1c0002row12_col7\" class=\"data row12 col7\" >-0.20</td>\n",
              "                        <td id=\"T_885f5f90_6cdd_11eb_adfb_0242ac1c0002row12_col8\" class=\"data row12 col8\" >0.36</td>\n",
              "                        <td id=\"T_885f5f90_6cdd_11eb_adfb_0242ac1c0002row12_col9\" class=\"data row12 col9\" >0.12</td>\n",
              "                        <td id=\"T_885f5f90_6cdd_11eb_adfb_0242ac1c0002row12_col10\" class=\"data row12 col10\" >0.15</td>\n",
              "                        <td id=\"T_885f5f90_6cdd_11eb_adfb_0242ac1c0002row12_col11\" class=\"data row12 col11\" >0.19</td>\n",
              "                        <td id=\"T_885f5f90_6cdd_11eb_adfb_0242ac1c0002row12_col12\" class=\"data row12 col12\" >1.00</td>\n",
              "                        <td id=\"T_885f5f90_6cdd_11eb_adfb_0242ac1c0002row12_col13\" class=\"data row12 col13\" >0.23</td>\n",
              "                        <td id=\"T_885f5f90_6cdd_11eb_adfb_0242ac1c0002row12_col14\" class=\"data row12 col14\" >-0.22</td>\n",
              "                        <td id=\"T_885f5f90_6cdd_11eb_adfb_0242ac1c0002row12_col15\" class=\"data row12 col15\" >-0.01</td>\n",
              "                        <td id=\"T_885f5f90_6cdd_11eb_adfb_0242ac1c0002row12_col16\" class=\"data row12 col16\" >0.43</td>\n",
              "            </tr>\n",
              "            <tr>\n",
              "                        <th id=\"T_885f5f90_6cdd_11eb_adfb_0242ac1c0002level0_row13\" class=\"row_heading level0 row13\" >muscle stiffness_Yes</th>\n",
              "                        <td id=\"T_885f5f90_6cdd_11eb_adfb_0242ac1c0002row13_col0\" class=\"data row13 col0\" >0.31</td>\n",
              "                        <td id=\"T_885f5f90_6cdd_11eb_adfb_0242ac1c0002row13_col1\" class=\"data row13 col1\" >-0.09</td>\n",
              "                        <td id=\"T_885f5f90_6cdd_11eb_adfb_0242ac1c0002row13_col2\" class=\"data row13 col2\" >0.15</td>\n",
              "                        <td id=\"T_885f5f90_6cdd_11eb_adfb_0242ac1c0002row13_col3\" class=\"data row13 col3\" >0.18</td>\n",
              "                        <td id=\"T_885f5f90_6cdd_11eb_adfb_0242ac1c0002row13_col4\" class=\"data row13 col4\" >0.11</td>\n",
              "                        <td id=\"T_885f5f90_6cdd_11eb_adfb_0242ac1c0002row13_col5\" class=\"data row13 col5\" >0.26</td>\n",
              "                        <td id=\"T_885f5f90_6cdd_11eb_adfb_0242ac1c0002row13_col6\" class=\"data row13 col6\" >0.32</td>\n",
              "                        <td id=\"T_885f5f90_6cdd_11eb_adfb_0242ac1c0002row13_col7\" class=\"data row13 col7\" >-0.10</td>\n",
              "                        <td id=\"T_885f5f90_6cdd_11eb_adfb_0242ac1c0002row13_col8\" class=\"data row13 col8\" >0.41</td>\n",
              "                        <td id=\"T_885f5f90_6cdd_11eb_adfb_0242ac1c0002row13_col9\" class=\"data row13 col9\" >0.22</td>\n",
              "                        <td id=\"T_885f5f90_6cdd_11eb_adfb_0242ac1c0002row13_col10\" class=\"data row13 col10\" >0.20</td>\n",
              "                        <td id=\"T_885f5f90_6cdd_11eb_adfb_0242ac1c0002row13_col11\" class=\"data row13 col11\" >0.25</td>\n",
              "                        <td id=\"T_885f5f90_6cdd_11eb_adfb_0242ac1c0002row13_col12\" class=\"data row13 col12\" >0.23</td>\n",
              "                        <td id=\"T_885f5f90_6cdd_11eb_adfb_0242ac1c0002row13_col13\" class=\"data row13 col13\" >1.00</td>\n",
              "                        <td id=\"T_885f5f90_6cdd_11eb_adfb_0242ac1c0002row13_col14\" class=\"data row13 col14\" >0.04</td>\n",
              "                        <td id=\"T_885f5f90_6cdd_11eb_adfb_0242ac1c0002row13_col15\" class=\"data row13 col15\" >0.16</td>\n",
              "                        <td id=\"T_885f5f90_6cdd_11eb_adfb_0242ac1c0002row13_col16\" class=\"data row13 col16\" >0.12</td>\n",
              "            </tr>\n",
              "            <tr>\n",
              "                        <th id=\"T_885f5f90_6cdd_11eb_adfb_0242ac1c0002level0_row14\" class=\"row_heading level0 row14\" >Alopecia_Yes</th>\n",
              "                        <td id=\"T_885f5f90_6cdd_11eb_adfb_0242ac1c0002row14_col0\" class=\"data row14 col0\" >0.32</td>\n",
              "                        <td id=\"T_885f5f90_6cdd_11eb_adfb_0242ac1c0002row14_col1\" class=\"data row14 col1\" >0.33</td>\n",
              "                        <td id=\"T_885f5f90_6cdd_11eb_adfb_0242ac1c0002row14_col2\" class=\"data row14 col2\" >-0.14</td>\n",
              "                        <td id=\"T_885f5f90_6cdd_11eb_adfb_0242ac1c0002row14_col3\" class=\"data row14 col3\" >-0.31</td>\n",
              "                        <td id=\"T_885f5f90_6cdd_11eb_adfb_0242ac1c0002row14_col4\" class=\"data row14 col4\" >-0.20</td>\n",
              "                        <td id=\"T_885f5f90_6cdd_11eb_adfb_0242ac1c0002row14_col5\" class=\"data row14 col5\" >0.09</td>\n",
              "                        <td id=\"T_885f5f90_6cdd_11eb_adfb_0242ac1c0002row14_col6\" class=\"data row14 col6\" >-0.05</td>\n",
              "                        <td id=\"T_885f5f90_6cdd_11eb_adfb_0242ac1c0002row14_col7\" class=\"data row14 col7\" >0.20</td>\n",
              "                        <td id=\"T_885f5f90_6cdd_11eb_adfb_0242ac1c0002row14_col8\" class=\"data row14 col8\" >0.01</td>\n",
              "                        <td id=\"T_885f5f90_6cdd_11eb_adfb_0242ac1c0002row14_col9\" class=\"data row14 col9\" >0.27</td>\n",
              "                        <td id=\"T_885f5f90_6cdd_11eb_adfb_0242ac1c0002row14_col10\" class=\"data row14 col10\" >0.04</td>\n",
              "                        <td id=\"T_885f5f90_6cdd_11eb_adfb_0242ac1c0002row14_col11\" class=\"data row14 col11\" >0.29</td>\n",
              "                        <td id=\"T_885f5f90_6cdd_11eb_adfb_0242ac1c0002row14_col12\" class=\"data row14 col12\" >-0.22</td>\n",
              "                        <td id=\"T_885f5f90_6cdd_11eb_adfb_0242ac1c0002row14_col13\" class=\"data row14 col13\" >0.04</td>\n",
              "                        <td id=\"T_885f5f90_6cdd_11eb_adfb_0242ac1c0002row14_col14\" class=\"data row14 col14\" >1.00</td>\n",
              "                        <td id=\"T_885f5f90_6cdd_11eb_adfb_0242ac1c0002row14_col15\" class=\"data row14 col15\" >0.03</td>\n",
              "                        <td id=\"T_885f5f90_6cdd_11eb_adfb_0242ac1c0002row14_col16\" class=\"data row14 col16\" >-0.27</td>\n",
              "            </tr>\n",
              "            <tr>\n",
              "                        <th id=\"T_885f5f90_6cdd_11eb_adfb_0242ac1c0002level0_row15\" class=\"row_heading level0 row15\" >Obesity_Yes</th>\n",
              "                        <td id=\"T_885f5f90_6cdd_11eb_adfb_0242ac1c0002row15_col0\" class=\"data row15 col0\" >0.14</td>\n",
              "                        <td id=\"T_885f5f90_6cdd_11eb_adfb_0242ac1c0002row15_col1\" class=\"data row15 col1\" >-0.01</td>\n",
              "                        <td id=\"T_885f5f90_6cdd_11eb_adfb_0242ac1c0002row15_col2\" class=\"data row15 col2\" >0.13</td>\n",
              "                        <td id=\"T_885f5f90_6cdd_11eb_adfb_0242ac1c0002row15_col3\" class=\"data row15 col3\" >0.10</td>\n",
              "                        <td id=\"T_885f5f90_6cdd_11eb_adfb_0242ac1c0002row15_col4\" class=\"data row15 col4\" >0.17</td>\n",
              "                        <td id=\"T_885f5f90_6cdd_11eb_adfb_0242ac1c0002row15_col5\" class=\"data row15 col5\" >0.05</td>\n",
              "                        <td id=\"T_885f5f90_6cdd_11eb_adfb_0242ac1c0002row15_col6\" class=\"data row15 col6\" >0.03</td>\n",
              "                        <td id=\"T_885f5f90_6cdd_11eb_adfb_0242ac1c0002row15_col7\" class=\"data row15 col7\" >0.05</td>\n",
              "                        <td id=\"T_885f5f90_6cdd_11eb_adfb_0242ac1c0002row15_col8\" class=\"data row15 col8\" >0.11</td>\n",
              "                        <td id=\"T_885f5f90_6cdd_11eb_adfb_0242ac1c0002row15_col9\" class=\"data row15 col9\" >0.00</td>\n",
              "                        <td id=\"T_885f5f90_6cdd_11eb_adfb_0242ac1c0002row15_col10\" class=\"data row15 col10\" >0.13</td>\n",
              "                        <td id=\"T_885f5f90_6cdd_11eb_adfb_0242ac1c0002row15_col11\" class=\"data row15 col11\" >-0.07</td>\n",
              "                        <td id=\"T_885f5f90_6cdd_11eb_adfb_0242ac1c0002row15_col12\" class=\"data row15 col12\" >-0.01</td>\n",
              "                        <td id=\"T_885f5f90_6cdd_11eb_adfb_0242ac1c0002row15_col13\" class=\"data row15 col13\" >0.16</td>\n",
              "                        <td id=\"T_885f5f90_6cdd_11eb_adfb_0242ac1c0002row15_col14\" class=\"data row15 col14\" >0.03</td>\n",
              "                        <td id=\"T_885f5f90_6cdd_11eb_adfb_0242ac1c0002row15_col15\" class=\"data row15 col15\" >1.00</td>\n",
              "                        <td id=\"T_885f5f90_6cdd_11eb_adfb_0242ac1c0002row15_col16\" class=\"data row15 col16\" >0.07</td>\n",
              "            </tr>\n",
              "            <tr>\n",
              "                        <th id=\"T_885f5f90_6cdd_11eb_adfb_0242ac1c0002level0_row16\" class=\"row_heading level0 row16\" >class_Positive</th>\n",
              "                        <td id=\"T_885f5f90_6cdd_11eb_adfb_0242ac1c0002row16_col0\" class=\"data row16 col0\" >0.11</td>\n",
              "                        <td id=\"T_885f5f90_6cdd_11eb_adfb_0242ac1c0002row16_col1\" class=\"data row16 col1\" >-0.45</td>\n",
              "                        <td id=\"T_885f5f90_6cdd_11eb_adfb_0242ac1c0002row16_col2\" class=\"data row16 col2\" >0.67</td>\n",
              "                        <td id=\"T_885f5f90_6cdd_11eb_adfb_0242ac1c0002row16_col3\" class=\"data row16 col3\" >0.65</td>\n",
              "                        <td id=\"T_885f5f90_6cdd_11eb_adfb_0242ac1c0002row16_col4\" class=\"data row16 col4\" >0.44</td>\n",
              "                        <td id=\"T_885f5f90_6cdd_11eb_adfb_0242ac1c0002row16_col5\" class=\"data row16 col5\" >0.24</td>\n",
              "                        <td id=\"T_885f5f90_6cdd_11eb_adfb_0242ac1c0002row16_col6\" class=\"data row16 col6\" >0.34</td>\n",
              "                        <td id=\"T_885f5f90_6cdd_11eb_adfb_0242ac1c0002row16_col7\" class=\"data row16 col7\" >0.11</td>\n",
              "                        <td id=\"T_885f5f90_6cdd_11eb_adfb_0242ac1c0002row16_col8\" class=\"data row16 col8\" >0.25</td>\n",
              "                        <td id=\"T_885f5f90_6cdd_11eb_adfb_0242ac1c0002row16_col9\" class=\"data row16 col9\" >-0.01</td>\n",
              "                        <td id=\"T_885f5f90_6cdd_11eb_adfb_0242ac1c0002row16_col10\" class=\"data row16 col10\" >0.30</td>\n",
              "                        <td id=\"T_885f5f90_6cdd_11eb_adfb_0242ac1c0002row16_col11\" class=\"data row16 col11\" >0.05</td>\n",
              "                        <td id=\"T_885f5f90_6cdd_11eb_adfb_0242ac1c0002row16_col12\" class=\"data row16 col12\" >0.43</td>\n",
              "                        <td id=\"T_885f5f90_6cdd_11eb_adfb_0242ac1c0002row16_col13\" class=\"data row16 col13\" >0.12</td>\n",
              "                        <td id=\"T_885f5f90_6cdd_11eb_adfb_0242ac1c0002row16_col14\" class=\"data row16 col14\" >-0.27</td>\n",
              "                        <td id=\"T_885f5f90_6cdd_11eb_adfb_0242ac1c0002row16_col15\" class=\"data row16 col15\" >0.07</td>\n",
              "                        <td id=\"T_885f5f90_6cdd_11eb_adfb_0242ac1c0002row16_col16\" class=\"data row16 col16\" >1.00</td>\n",
              "            </tr>\n",
              "    </tbody></table>"
            ],
            "text/plain": [
              "<pandas.io.formats.style.Styler at 0x7f449dbfb5f8>"
            ]
          },
          "metadata": {
            "tags": []
          },
          "execution_count": 98
        }
      ]
    },
    {
      "cell_type": "code",
      "metadata": {
        "colab": {
          "base_uri": "https://localhost:8080/",
          "height": 702
        },
        "id": "aBplpuoCNY1z",
        "outputId": "ac4366bd-2f84-4c74-f5d7-997d93ef50b5"
      },
      "source": [
        "f, ax = plt.subplots(figsize=(10, 8))\r\n",
        "sns.heatmap(corr, mask=np.zeros_like(corr, dtype=np.bool), cmap=sns.diverging_palette(220, 10, as_cmap=True),\r\n",
        "            square=True, ax=ax)"
      ],
      "execution_count": null,
      "outputs": [
        {
          "output_type": "execute_result",
          "data": {
            "text/plain": [
              "<matplotlib.axes._subplots.AxesSubplot at 0x7f44b09baa58>"
            ]
          },
          "metadata": {
            "tags": []
          },
          "execution_count": 14
        },
        {
          "output_type": "display_data",
          "data": {
            "image/png": "[encoded data removed]",
            "text/plain": [
              "<Figure size 720x576 with 2 Axes>"
            ]
          },
          "metadata": {
            "tags": [],
            "needs_background": "light"
          }
        }
      ]
    },
    {
      "cell_type": "markdown",
      "metadata": {
        "id": "H0oxbr7rLXGv"
      },
      "source": [
        "# Normaliza os dados"
      ]
    },
    {
      "cell_type": "code",
      "metadata": {
        "id": "Q_zIqTnyjRsr"
      },
      "source": [
        "from sklearn.preprocessing import MinMaxScaler\r\n",
        "# fit(X[, y]) - Compute the mean and std to be used for later scaling.\r\n",
        "scaler = MinMaxScaler().fit(X)\r\n",
        "X = scaler.transform(X)"
      ],
      "execution_count": 80,
      "outputs": []
    },
    {
      "cell_type": "code",
      "metadata": {
        "colab": {
          "base_uri": "https://localhost:8080/"
        },
        "id": "4TfEqvCNlC-y",
        "outputId": "802181bb-7dc1-454b-b481-e22740ca1aa3"
      },
      "source": [
        "X.view()"
      ],
      "execution_count": 81,
      "outputs": [
        {
          "output_type": "execute_result",
          "data": {
            "text/plain": [
              "array([[0.32432432, 1.        , 0.        , ..., 1.        , 1.        ,\n",
              "        1.        ],\n",
              "       [0.56756757, 1.        , 0.        , ..., 0.        , 1.        ,\n",
              "        0.        ],\n",
              "       [0.33783784, 1.        , 1.        , ..., 1.        , 1.        ,\n",
              "        0.        ],\n",
              "       ...,\n",
              "       [0.56756757, 0.        , 1.        , ..., 1.        , 0.        ,\n",
              "        1.        ],\n",
              "       [0.21621622, 0.        , 0.        , ..., 0.        , 1.        ,\n",
              "        0.        ],\n",
              "       [0.35135135, 1.        , 0.        , ..., 0.        , 0.        ,\n",
              "        0.        ]])"
            ]
          },
          "metadata": {
            "tags": []
          },
          "execution_count": 81
        }
      ]
    },
    {
      "cell_type": "markdown",
      "metadata": {
        "id": "c4emLu4rLhUp"
      },
      "source": [
        "# Testa os modelos"
      ]
    },
    {
      "cell_type": "code",
      "metadata": {
        "id": "gktrv33fjjnY"
      },
      "source": [
        "X_train, X_test, y_train, y_test = train_test_split(X,y)"
      ],
      "execution_count": 82,
      "outputs": []
    },
    {
      "cell_type": "code",
      "metadata": {
        "id": "5KAX6c9mNjsu",
        "colab": {
          "base_uri": "https://localhost:8080/"
        },
        "outputId": "2d767790-be2b-41ce-b620-fd3c9875f014"
      },
      "source": [
        "svm = SVC(kernel='linear', C=1.0)\n",
        "svm.fit(X_train,y_train.values.ravel())\n",
        "svm.score(X_test,y_test.values.ravel())"
      ],
      "execution_count": null,
      "outputs": [
        {
          "output_type": "execute_result",
          "data": {
            "text/plain": [
              "0.9538461538461539"
            ]
          },
          "metadata": {
            "tags": []
          },
          "execution_count": 60
        }
      ]
    },
    {
      "cell_type": "code",
      "metadata": {
        "id": "dK9vfMHcDOtb",
        "colab": {
          "base_uri": "https://localhost:8080/"
        },
        "outputId": "28a3181e-47f9-4ea8-ae67-ae8b7b2977b6"
      },
      "source": [
        "cross_val_score(svm,X,y.values.ravel(),cv=4).mean()\r\n",
        "confusion_matrix(y.values.ravel(),svm.predict(X))\r\n",
        "print(classification_report(y.values.ravel(),svm.predict(X)))"
      ],
      "execution_count": 83,
      "outputs": [
        {
          "output_type": "stream",
          "text": [
            "              precision    recall  f1-score   support\n",
            "\n",
            "           0       0.92      0.93      0.92       200\n",
            "           1       0.95      0.95      0.95       320\n",
            "\n",
            "    accuracy                           0.94       520\n",
            "   macro avg       0.94      0.94      0.94       520\n",
            "weighted avg       0.94      0.94      0.94       520\n",
            "\n"
          ],
          "name": "stdout"
        }
      ]
    },
    {
      "cell_type": "code",
      "metadata": {
        "id": "T7AWIPxyNjsw",
        "colab": {
          "base_uri": "https://localhost:8080/"
        },
        "outputId": "7799c857-d957-4b1e-9a8a-fe719db53e9a"
      },
      "source": [
        "svm_poly = SVC(kernel='poly', degree=3)\n",
        "svm_poly.fit(X_train,y_train.values.ravel())\n",
        "svm_poly.score(X_test,y_test.values.ravel())"
      ],
      "execution_count": null,
      "outputs": [
        {
          "output_type": "execute_result",
          "data": {
            "text/plain": [
              "0.9615384615384616"
            ]
          },
          "metadata": {
            "tags": []
          },
          "execution_count": 65
        }
      ]
    },
    {
      "cell_type": "code",
      "metadata": {
        "colab": {
          "base_uri": "https://localhost:8080/"
        },
        "id": "vaEm21AMIHkM",
        "outputId": "38f201d7-7b33-4bf0-b3a6-b3ed49091c7c"
      },
      "source": [
        "cross_val_score(svm_poly,X,y.values.ravel(),cv=4).mean()\r\n",
        "confusion_matrix(y.values.ravel(),svm_poly.predict(X))\r\n",
        "print(classification_report(y.values.ravel(),svm_poly.predict(X)))"
      ],
      "execution_count": 84,
      "outputs": [
        {
          "output_type": "stream",
          "text": [
            "              precision    recall  f1-score   support\n",
            "\n",
            "           0       0.94      1.00      0.97       200\n",
            "           1       1.00      0.96      0.98       320\n",
            "\n",
            "    accuracy                           0.97       520\n",
            "   macro avg       0.97      0.98      0.97       520\n",
            "weighted avg       0.98      0.97      0.98       520\n",
            "\n"
          ],
          "name": "stdout"
        }
      ]
    },
    {
      "cell_type": "code",
      "metadata": {
        "id": "FjIsBIAiNjsz",
        "colab": {
          "base_uri": "https://localhost:8080/"
        },
        "outputId": "e84b445e-2428-4f06-fd2c-5c5efcd2d1de"
      },
      "source": [
        "svm_rbf = SVC(kernel='rbf')\n",
        "svm_rbf.fit(X_train,y_train.values.ravel())\n",
        "svm_rbf.score(X_test,y_test.values.ravel())"
      ],
      "execution_count": null,
      "outputs": [
        {
          "output_type": "execute_result",
          "data": {
            "text/plain": [
              "0.9769230769230769"
            ]
          },
          "metadata": {
            "tags": []
          },
          "execution_count": 66
        }
      ]
    },
    {
      "cell_type": "code",
      "metadata": {
        "colab": {
          "base_uri": "https://localhost:8080/"
        },
        "id": "12f9XHJ7IZ-P",
        "outputId": "a909c2a9-b520-4835-decb-31f22f397543"
      },
      "source": [
        "cross_val_score(svm_rbf,X,y.values.ravel(),cv=4).mean()\r\n",
        "confusion_matrix(y.values.ravel(),svm_rbf.predict(X))\r\n",
        "print(classification_report(y.values.ravel(),svm_rbf.predict(X)))"
      ],
      "execution_count": 85,
      "outputs": [
        {
          "output_type": "stream",
          "text": [
            "              precision    recall  f1-score   support\n",
            "\n",
            "           0       0.97      0.97      0.97       200\n",
            "           1       0.98      0.98      0.98       320\n",
            "\n",
            "    accuracy                           0.98       520\n",
            "   macro avg       0.98      0.98      0.98       520\n",
            "weighted avg       0.98      0.98      0.98       520\n",
            "\n"
          ],
          "name": "stdout"
        }
      ]
    },
    {
      "cell_type": "code",
      "metadata": {
        "colab": {
          "base_uri": "https://localhost:8080/"
        },
        "id": "jDB9gN6lERhu",
        "outputId": "c0c91925-76bb-4e75-acdf-9ae0618fe12d"
      },
      "source": [
        "rfc = RandomForestClassifier(n_estimators = 100)\r\n",
        "rfc.fit(X_train,y_train.values.ravel())\r\n",
        "rfc.score(X_test,y_test.values.ravel())"
      ],
      "execution_count": null,
      "outputs": [
        {
          "output_type": "execute_result",
          "data": {
            "text/plain": [
              "0.9923076923076923"
            ]
          },
          "metadata": {
            "tags": []
          },
          "execution_count": 67
        }
      ]
    },
    {
      "cell_type": "code",
      "metadata": {
        "colab": {
          "base_uri": "https://localhost:8080/"
        },
        "id": "4FMVPWLqIqov",
        "outputId": "aec83a1a-0a2b-4237-cee5-f4f8b0a4408a"
      },
      "source": [
        "cross_val_score(rfc,X,y.values.ravel(),cv=4).mean()\r\n",
        "confusion_matrix(y.values.ravel(),rfc.predict(X))\r\n",
        "print(classification_report(y.values.ravel(),rfc.predict(X)))"
      ],
      "execution_count": 86,
      "outputs": [
        {
          "output_type": "stream",
          "text": [
            "              precision    recall  f1-score   support\n",
            "\n",
            "           0       1.00      1.00      1.00       200\n",
            "           1       1.00      1.00      1.00       320\n",
            "\n",
            "    accuracy                           1.00       520\n",
            "   macro avg       1.00      1.00      1.00       520\n",
            "weighted avg       1.00      1.00      1.00       520\n",
            "\n"
          ],
          "name": "stdout"
        }
      ]
    },
    {
      "cell_type": "code",
      "metadata": {
        "colab": {
          "base_uri": "https://localhost:8080/"
        },
        "id": "BoCxKBInEt96",
        "outputId": "18288cc2-afa9-442e-ac8c-73b46876fe50"
      },
      "source": [
        "gbc = GradientBoostingClassifier(n_estimators = 100)\r\n",
        "gbc.fit(X_train,y_train.values.ravel())\r\n",
        "gbc.score(X_test,y_test.values.ravel())"
      ],
      "execution_count": null,
      "outputs": [
        {
          "output_type": "execute_result",
          "data": {
            "text/plain": [
              "0.9846153846153847"
            ]
          },
          "metadata": {
            "tags": []
          },
          "execution_count": 68
        }
      ]
    },
    {
      "cell_type": "code",
      "metadata": {
        "colab": {
          "base_uri": "https://localhost:8080/"
        },
        "id": "T-Q4VPTII2OB",
        "outputId": "f3000e12-2f11-44ad-f86a-d4de9d3da9f8"
      },
      "source": [
        "cross_val_score(gbc,X,y.values.ravel(),cv=4).mean()\r\n",
        "confusion_matrix(y.values.ravel(),gbc.predict(X))\r\n",
        "print(classification_report(y.values.ravel(),gbc.predict(X)))"
      ],
      "execution_count": 87,
      "outputs": [
        {
          "output_type": "stream",
          "text": [
            "              precision    recall  f1-score   support\n",
            "\n",
            "           0       0.99      1.00      1.00       200\n",
            "           1       1.00      0.99      1.00       320\n",
            "\n",
            "    accuracy                           1.00       520\n",
            "   macro avg       1.00      1.00      1.00       520\n",
            "weighted avg       1.00      1.00      1.00       520\n",
            "\n"
          ],
          "name": "stdout"
        }
      ]
    },
    {
      "cell_type": "code",
      "metadata": {
        "colab": {
          "base_uri": "https://localhost:8080/"
        },
        "id": "vVv-gU9wFt72",
        "outputId": "d2e486b0-d575-442d-f50e-cc6bd06e6ffb"
      },
      "source": [
        "from sklearn.model_selection import GridSearchCV\r\n",
        "from sklearn.tree import DecisionTreeClassifier\r\n",
        "param_grid = {'max_leaf_nodes': range(5, 40, 5)}\r\n",
        "grid = GridSearchCV(DecisionTreeClassifier(), param_grid, cv=10, n_jobs=3)\r\n",
        "grid.fit(X_train, y_train)\r\n",
        "grid.score(X_test, y_test)"
      ],
      "execution_count": 92,
      "outputs": [
        {
          "output_type": "execute_result",
          "data": {
            "text/plain": [
              "0.9769230769230769"
            ]
          },
          "metadata": {
            "tags": []
          },
          "execution_count": 92
        }
      ]
    },
    {
      "cell_type": "code",
      "metadata": {
        "colab": {
          "base_uri": "https://localhost:8080/"
        },
        "id": "rlw4tQefJNUc",
        "outputId": "83546a85-1ce5-469a-f621-0b8944cd317a"
      },
      "source": [
        "cross_val_score(grid,X,y.values.ravel(),cv=4).mean()\r\n",
        "confusion_matrix(y.values.ravel(),grid.predict(X))\r\n",
        "print(classification_report(y.values.ravel(),grid.predict(X)))"
      ],
      "execution_count": 93,
      "outputs": [
        {
          "output_type": "stream",
          "text": [
            "              precision    recall  f1-score   support\n",
            "\n",
            "           0       0.96      0.99      0.98       200\n",
            "           1       0.99      0.97      0.98       320\n",
            "\n",
            "    accuracy                           0.98       520\n",
            "   macro avg       0.98      0.98      0.98       520\n",
            "weighted avg       0.98      0.98      0.98       520\n",
            "\n"
          ],
          "name": "stdout"
        }
      ]
    },
    {
      "cell_type": "markdown",
      "metadata": {
        "id": "cL4rgj8aLpP3"
      },
      "source": [
        "# Conclusão"
      ]
    },
    {
      "cell_type": "markdown",
      "metadata": {
        "id": "L9I85107LuID"
      },
      "source": [
        "Com a normalização dos dados, todos os modelos testados apresentaram alta acurácia. O modelo construído com random forest alcançou uma acurácia de 0.99, além de um F1 score de 1 ao se usar cross validation."
      ]
    }
  ]
}
