{
 "cells": [
  {
   "cell_type": "markdown",
   "metadata": {},
   "source": [
    "# Análise Exploratória de Dados"
   ]
  },
  {
   "cell_type": "markdown",
   "metadata": {},
   "source": [
    "O objetivo desse notebook é extrair insights a partir de um conjunto de dados sobre venda de casa no condado de King, nos E.U.A. Para isso, realizaremos uma análise exploratória de dados usando Python. O dataset usado pode ser baixado no link a seguir https://www.kaggle.com/harlfoxem/housesalesprediction."
   ]
  },
  {
   "cell_type": "markdown",
   "metadata": {},
   "source": [
    "# Importando bibliotecas necessárias"
   ]
  },
  {
   "cell_type": "code",
   "execution_count": 33,
   "metadata": {},
   "outputs": [],
   "source": [
    "# Filtragem dos avisos, pois se trata de um notebook onde o foco é resultado.\n",
    "# Aplicações devem evitar isso para não perder evidências úteis de erros.\n",
    "import warnings\n",
    "warnings.filterwarnings('ignore')\n",
    "\n",
    "# suporte a arrays e matrizes multidimensionais\n",
    "import numpy as np\n",
    "# plotagem semelhante ao MATLAB\n",
    "import matplotlib as mpl\n",
    "# diversas funções de plotagem\n",
    "import matplotlib.pyplot as plt \n",
    "# manipulação e análise de dados, tais como tabelas e séries temporais\n",
    "import pandas as pd\n",
    "# distribuições de probabilidade e funções estatísticas\n",
    "import scipy.stats as st\n",
    "# visualização de dados em alto nível\n",
    "import seaborn as sns\n",
    "\n",
    "# padronização de características: média zero e variância unitária\n",
    "from sklearn.preprocessing import StandardScaler\n",
    "# divisão de arrays e matrizes em subconjuntos, útil para cross validation\n",
    "from sklearn.model_selection import train_test_split\n",
    "# busca em gradem, útil para seleção de hiperparâmetros\n",
    "from sklearn.model_selection import GridSearchCV\n",
    "# coeficiente de determinação para regressão\n",
    "from sklearn.metrics import r2_score\n",
    "\n",
    "# modelos para regressãp\n",
    "from sklearn.linear_model import RidgeCV, LassoCV, LinearRegression, ElasticNet\n",
    "# SVM para problemas de regressão\n",
    "from sklearn.svm import SVR\n",
    "# algoritmos ensemble (comitê de modelos) para regressão\n",
    "from sklearn.ensemble import RandomForestRegressor, GradientBoostingRegressor\n",
    "# algoritmo Extreme Gradient Boosting, do tipo ensemble\n",
    "from xgboost import XGBRegressor"
   ]
  },
  {
   "cell_type": "markdown",
   "metadata": {},
   "source": [
    "# Carregando os dados"
   ]
  },
  {
   "cell_type": "code",
   "execution_count": 34,
   "metadata": {},
   "outputs": [
    {
     "data": {
      "text/html": [
       "<div>\n",
       "<style scoped>\n",
       "    .dataframe tbody tr th:only-of-type {\n",
       "        vertical-align: middle;\n",
       "    }\n",
       "\n",
       "    .dataframe tbody tr th {\n",
       "        vertical-align: top;\n",
       "    }\n",
       "\n",
       "    .dataframe thead th {\n",
       "        text-align: right;\n",
       "    }\n",
       "</style>\n",
       "<table border=\"1\" class=\"dataframe\">\n",
       "  <thead>\n",
       "    <tr style=\"text-align: right;\">\n",
       "      <th></th>\n",
       "      <th>price</th>\n",
       "      <th>bedrooms</th>\n",
       "      <th>bathrooms</th>\n",
       "      <th>sqft_living</th>\n",
       "      <th>sqft_lot</th>\n",
       "      <th>floors</th>\n",
       "      <th>condition</th>\n",
       "      <th>grade</th>\n",
       "      <th>sqft_above</th>\n",
       "      <th>sqft_basement</th>\n",
       "      <th>yr_built</th>\n",
       "      <th>yr_renovated</th>\n",
       "      <th>zipcode</th>\n",
       "      <th>lat</th>\n",
       "      <th>long</th>\n",
       "      <th>sqft_living15</th>\n",
       "      <th>sqft_lot15</th>\n",
       "    </tr>\n",
       "  </thead>\n",
       "  <tbody>\n",
       "    <tr>\n",
       "      <th>0</th>\n",
       "      <td>221900.0</td>\n",
       "      <td>3</td>\n",
       "      <td>1.00</td>\n",
       "      <td>1180</td>\n",
       "      <td>5650</td>\n",
       "      <td>1.0</td>\n",
       "      <td>3</td>\n",
       "      <td>7</td>\n",
       "      <td>1180</td>\n",
       "      <td>0</td>\n",
       "      <td>1955</td>\n",
       "      <td>0</td>\n",
       "      <td>98178</td>\n",
       "      <td>47.5112</td>\n",
       "      <td>-122.257</td>\n",
       "      <td>1340</td>\n",
       "      <td>5650</td>\n",
       "    </tr>\n",
       "    <tr>\n",
       "      <th>1</th>\n",
       "      <td>538000.0</td>\n",
       "      <td>3</td>\n",
       "      <td>2.25</td>\n",
       "      <td>2570</td>\n",
       "      <td>7242</td>\n",
       "      <td>2.0</td>\n",
       "      <td>3</td>\n",
       "      <td>7</td>\n",
       "      <td>2170</td>\n",
       "      <td>400</td>\n",
       "      <td>1951</td>\n",
       "      <td>1991</td>\n",
       "      <td>98125</td>\n",
       "      <td>47.7210</td>\n",
       "      <td>-122.319</td>\n",
       "      <td>1690</td>\n",
       "      <td>7639</td>\n",
       "    </tr>\n",
       "    <tr>\n",
       "      <th>2</th>\n",
       "      <td>180000.0</td>\n",
       "      <td>2</td>\n",
       "      <td>1.00</td>\n",
       "      <td>770</td>\n",
       "      <td>10000</td>\n",
       "      <td>1.0</td>\n",
       "      <td>3</td>\n",
       "      <td>6</td>\n",
       "      <td>770</td>\n",
       "      <td>0</td>\n",
       "      <td>1933</td>\n",
       "      <td>0</td>\n",
       "      <td>98028</td>\n",
       "      <td>47.7379</td>\n",
       "      <td>-122.233</td>\n",
       "      <td>2720</td>\n",
       "      <td>8062</td>\n",
       "    </tr>\n",
       "    <tr>\n",
       "      <th>3</th>\n",
       "      <td>604000.0</td>\n",
       "      <td>4</td>\n",
       "      <td>3.00</td>\n",
       "      <td>1960</td>\n",
       "      <td>5000</td>\n",
       "      <td>1.0</td>\n",
       "      <td>5</td>\n",
       "      <td>7</td>\n",
       "      <td>1050</td>\n",
       "      <td>910</td>\n",
       "      <td>1965</td>\n",
       "      <td>0</td>\n",
       "      <td>98136</td>\n",
       "      <td>47.5208</td>\n",
       "      <td>-122.393</td>\n",
       "      <td>1360</td>\n",
       "      <td>5000</td>\n",
       "    </tr>\n",
       "    <tr>\n",
       "      <th>4</th>\n",
       "      <td>510000.0</td>\n",
       "      <td>3</td>\n",
       "      <td>2.00</td>\n",
       "      <td>1680</td>\n",
       "      <td>8080</td>\n",
       "      <td>1.0</td>\n",
       "      <td>3</td>\n",
       "      <td>8</td>\n",
       "      <td>1680</td>\n",
       "      <td>0</td>\n",
       "      <td>1987</td>\n",
       "      <td>0</td>\n",
       "      <td>98074</td>\n",
       "      <td>47.6168</td>\n",
       "      <td>-122.045</td>\n",
       "      <td>1800</td>\n",
       "      <td>7503</td>\n",
       "    </tr>\n",
       "  </tbody>\n",
       "</table>\n",
       "</div>"
      ],
      "text/plain": [
       "      price  bedrooms  bathrooms  sqft_living  sqft_lot  floors  condition  \\\n",
       "0  221900.0         3       1.00         1180      5650     1.0          3   \n",
       "1  538000.0         3       2.25         2570      7242     2.0          3   \n",
       "2  180000.0         2       1.00          770     10000     1.0          3   \n",
       "3  604000.0         4       3.00         1960      5000     1.0          5   \n",
       "4  510000.0         3       2.00         1680      8080     1.0          3   \n",
       "\n",
       "   grade  sqft_above  sqft_basement  yr_built  yr_renovated  zipcode      lat  \\\n",
       "0      7        1180              0      1955             0    98178  47.5112   \n",
       "1      7        2170            400      1951          1991    98125  47.7210   \n",
       "2      6         770              0      1933             0    98028  47.7379   \n",
       "3      7        1050            910      1965             0    98136  47.5208   \n",
       "4      8        1680              0      1987             0    98074  47.6168   \n",
       "\n",
       "      long  sqft_living15  sqft_lot15  \n",
       "0 -122.257           1340        5650  \n",
       "1 -122.319           1690        7639  \n",
       "2 -122.233           2720        8062  \n",
       "3 -122.393           1360        5000  \n",
       "4 -122.045           1800        7503  "
      ]
     },
     "execution_count": 34,
     "metadata": {},
     "output_type": "execute_result"
    }
   ],
   "source": [
    "df = pd.read_csv(\"kc_house_data.csv\")\n",
    "df = df.drop(columns = ['id', 'date', 'waterfront', 'view'])\n",
    "df.head()"
   ]
  },
  {
   "cell_type": "markdown",
   "metadata": {},
   "source": [
    "Aqui podemos olhar as colunas da tabela e as características (features) que poderão ser usadas nesta análise."
   ]
  },
  {
   "cell_type": "markdown",
   "metadata": {},
   "source": [
    "As informações contidas no dataset que serão usadas na análise são:\n",
    "\n",
    "price: preço da casa\n",
    "\n",
    "bedrooms: número de quartos\n",
    "\n",
    "bathrooms: número de banheiros\n",
    "\n",
    "sqft_living: área da cada\n",
    "\n",
    "sqft_lot: área do terreno onde a casa está inserida\n",
    "\n",
    "yr_built: ano de construção\n",
    "\n",
    "yr_renovated: ano em que a casa foi reformada\n",
    "\n",
    "zipcode: localização da casa"
   ]
  },
  {
   "cell_type": "markdown",
   "metadata": {},
   "source": [
    "Tamanho dos nossos registros"
   ]
  },
  {
   "cell_type": "code",
   "execution_count": 35,
   "metadata": {},
   "outputs": [
    {
     "name": "stdout",
     "output_type": "stream",
     "text": [
      "(21613, 17)\n",
      "(21613,)\n"
     ]
    }
   ],
   "source": [
    "print(df.shape)\n",
    "print(df['price'].shape)"
   ]
  },
  {
   "cell_type": "markdown",
   "metadata": {},
   "source": [
    "A tabela contém 21613 linhas e 21 colunas."
   ]
  },
  {
   "cell_type": "markdown",
   "metadata": {},
   "source": [
    "# Verificando dados nulos"
   ]
  },
  {
   "cell_type": "code",
   "execution_count": 36,
   "metadata": {},
   "outputs": [
    {
     "data": {
      "text/plain": [
       "price            0\n",
       "bedrooms         0\n",
       "bathrooms        0\n",
       "sqft_living      0\n",
       "sqft_lot         0\n",
       "floors           0\n",
       "condition        0\n",
       "grade            0\n",
       "sqft_above       0\n",
       "sqft_basement    0\n",
       "yr_built         0\n",
       "yr_renovated     0\n",
       "zipcode          0\n",
       "lat              0\n",
       "long             0\n",
       "sqft_living15    0\n",
       "sqft_lot15       0\n",
       "dtype: int64"
      ]
     },
     "execution_count": 36,
     "metadata": {},
     "output_type": "execute_result"
    }
   ],
   "source": [
    "df.isnull().sum()"
   ]
  },
  {
   "cell_type": "markdown",
   "metadata": {},
   "source": [
    "Encontrando quais variáveis independentes têm maior correlação com a variável dependente."
   ]
  },
  {
   "cell_type": "code",
   "execution_count": 37,
   "metadata": {},
   "outputs": [
    {
     "name": "stdout",
     "output_type": "stream",
     "text": [
      "Feature\t\t\t\tR2\n",
      "---------------------------------------------------\n",
      "bedrooms:\t\t\t0.308350\n",
      "bathrooms:\t\t\t0.525138\n",
      "sqft_above:\t\t\t0.605567\n",
      "sqft_basement:\t\t\t0.323816\n",
      "sqft_living:\t\t\t0.702035\n",
      "yr_built:\t\t\t0.054012\n",
      "yr_renovated:\t\t\t0.126434\n",
      "sqft_living15:\t\t\t0.585379\n"
     ]
    }
   ],
   "source": [
    "# escolhendo as variáveis independentes\n",
    "x = df[['bedrooms', 'bathrooms', 'sqft_above', 'sqft_basement', 'sqft_living', 'grade', 'floors', 'yr_built', 'yr_renovated', 'zipcode', 'lat', 'long', 'sqft_living15', 'sqft_lot15']]\n",
    "# variável dependente\n",
    "y = df[['price']]\n",
    "\n",
    "#df.loc[::2] = np.nan\n",
    "feature1 = 'bedrooms'\n",
    "feature2 = 'bathrooms'\n",
    "feature3 = 'sqft_above'\n",
    "feature4 = 'sqft_basement'\n",
    "feature5 = 'sqft_living'\n",
    "feature6 = 'yr_built'\n",
    "feature7 = 'yr_renovated'\n",
    "feature8 = 'sqft_living15'\n",
    "def Correlacoes():\n",
    "    print(\"Feature\\t\\t\\t\\tR2\")\n",
    "    print(\"---------------------------------------------------\")\n",
    "    print(\"%s:\\t\\t\\t%f\" % (feature1, df['price'].corr(df['bedrooms'])))\n",
    "    print(\"%s:\\t\\t\\t%f\" % (feature2, df['price'].corr(df['bathrooms'])))\n",
    "    print(\"%s:\\t\\t\\t%f\" % (feature3, df['price'].corr(df['sqft_above'])))\n",
    "    print(\"%s:\\t\\t\\t%f\" % (feature4, df['price'].corr(df['sqft_basement'])))\n",
    "    print(\"%s:\\t\\t\\t%f\" % (feature5, df['price'].corr(df['sqft_living'])))\n",
    "    print(\"%s:\\t\\t\\t%f\" % (feature6, df['price'].corr(df['yr_built'])))\n",
    "    print(\"%s:\\t\\t\\t%f\" % (feature7, df['price'].corr(df['yr_renovated'])))\n",
    "    print(\"%s:\\t\\t\\t%f\" % (feature8, df['price'].corr(df['sqft_living15'])))\n",
    "Correlacoes()\n",
    "    \n",
    "    "
   ]
  },
  {
   "cell_type": "code",
   "execution_count": 38,
   "metadata": {},
   "outputs": [
    {
     "data": {
      "text/plain": [
       "<seaborn.axisgrid.PairGrid at 0x237bd924c18>"
      ]
     },
     "execution_count": 38,
     "metadata": {},
     "output_type": "execute_result"
    },
    {
     "data": {
      "image/png": "[encoded data removed]",
      "text/plain": [
       "<Figure size 540x540 with 12 Axes>"
      ]
     },
     "metadata": {
      "needs_background": "light"
     },
     "output_type": "display_data"
    }
   ],
   "source": [
    "data = df[['price', 'bedrooms', 'bathrooms']]\n",
    "sns.pairplot(data)"
   ]
  },
  {
   "cell_type": "markdown",
   "metadata": {},
   "source": [
    "Construindo o modelo"
   ]
  },
  {
   "cell_type": "code",
   "execution_count": 41,
   "metadata": {},
   "outputs": [
    {
     "name": "stdout",
     "output_type": "stream",
     "text": [
      "Linear: 0.656981, 0.0000\n",
      "Ridge: 0.656983, 0.0000\n",
      "Lasso: 0.656981, 0.0000\n",
      "Random Forrest: 0.840709, 0.0000\n",
      "GBDT: 0.788520, 0.0000\n",
      "Support Vector Regression: -0.058792, 0.0000\n",
      "ElasticNet: 0.657000, 0.0000\n",
      "XgBoost: 0.853778, 0.0000\n"
     ]
    },
    {
     "ename": "AttributeError",
     "evalue": "'XGBRegressor' object has no attribute 'best_params_'",
     "output_type": "error",
     "traceback": [
      "\u001b[1;31m---------------------------------------------------------------------------\u001b[0m",
      "\u001b[1;31mAttributeError\u001b[0m                            Traceback (most recent call last)",
      "\u001b[1;32m<ipython-input-41-755ee78a8c1a>\u001b[0m in \u001b[0;36m<module>\u001b[1;34m()\u001b[0m\n\u001b[0;32m     44\u001b[0m   \u001b[0mprint\u001b[0m\u001b[1;33m(\u001b[0m\u001b[1;34m'{}: {:.6f}, {:.4f}'\u001b[0m\u001b[1;33m.\u001b[0m\u001b[0mformat\u001b[0m\u001b[1;33m(\u001b[0m\u001b[0mname\u001b[0m\u001b[1;33m,\u001b[0m\u001b[0mscore\u001b[0m\u001b[1;33m.\u001b[0m\u001b[0mmean\u001b[0m\u001b[1;33m(\u001b[0m\u001b[1;33m)\u001b[0m\u001b[1;33m,\u001b[0m\u001b[0mscore\u001b[0m\u001b[1;33m.\u001b[0m\u001b[0mstd\u001b[0m\u001b[1;33m(\u001b[0m\u001b[1;33m)\u001b[0m\u001b[1;33m)\u001b[0m\u001b[1;33m)\u001b[0m\u001b[1;33m\u001b[0m\u001b[0m\n\u001b[0;32m     45\u001b[0m \u001b[1;33m\u001b[0m\u001b[0m\n\u001b[1;32m---> 46\u001b[1;33m \u001b[0mprint\u001b[0m\u001b[1;33m(\u001b[0m\u001b[1;34m'Optimal parameter list:'\u001b[0m\u001b[1;33m,\u001b[0m \u001b[0mmodel\u001b[0m\u001b[1;33m.\u001b[0m\u001b[0mbest_params_\u001b[0m\u001b[1;33m)\u001b[0m\u001b[1;33m\u001b[0m\u001b[0m\n\u001b[0m\u001b[0;32m     47\u001b[0m \u001b[0mprint\u001b[0m\u001b[1;33m(\u001b[0m\u001b[1;34m'Optimal model:'\u001b[0m\u001b[1;33m,\u001b[0m \u001b[0mmodel\u001b[0m\u001b[1;33m.\u001b[0m\u001b[0mbest_estimator_\u001b[0m\u001b[1;33m)\u001b[0m\u001b[1;33m\u001b[0m\u001b[0m\n\u001b[0;32m     48\u001b[0m \u001b[0mprint\u001b[0m\u001b[1;33m(\u001b[0m\u001b[1;34m'Optimal R2 value (train):'\u001b[0m\u001b[1;33m,\u001b[0m \u001b[0mmodel\u001b[0m\u001b[1;33m.\u001b[0m\u001b[0mbest_score_\u001b[0m\u001b[1;33m)\u001b[0m\u001b[1;33m\u001b[0m\u001b[0m\n",
      "\u001b[1;31mAttributeError\u001b[0m: 'XGBRegressor' object has no attribute 'best_params_'"
     ]
    }
   ],
   "source": [
    "# 80% das amostras são usadas para treinamento, 20% para teste\n",
    "x_train, x_test, y_train, y_test = train_test_split(x, y, test_size=0.2)\n",
    "\n",
    "# padronização dos vetores característicos (features)\n",
    "ss = StandardScaler()\n",
    "x_train = ss.fit_transform(x_train)\n",
    "x_test = ss.transform(x_test)\n",
    "\n",
    "# nomes identificando os modelos de regressão\n",
    "names = ['Linear',\n",
    "         'Ridge',\n",
    "         'Lasso',\n",
    "         'Random Forrest',\n",
    "         'GBDT',\n",
    "         'Support Vector Regression',\n",
    "         'ElasticNet',\n",
    "         'XgBoost'\n",
    "        ]\n",
    "\n",
    "# instancia diversos métodos de regressão correspondentes aos nomes\n",
    "models = [LinearRegression(),\n",
    "          RidgeCV(alphas=(0.001,0.1,1),cv=3),\n",
    "          LassoCV(alphas=(0.001,0.1,1),cv=5),\n",
    "          RandomForestRegressor(n_estimators=10),\n",
    "          GradientBoostingRegressor(n_estimators=30),\n",
    "          SVR(),\n",
    "          ElasticNet(alpha=0.001,max_iter=10000),\n",
    "          XGBRegressor()]\n",
    "\n",
    "def R2(model, x_train, x_test, y_train, y_test):\n",
    "  \"\"\" Ajusta o modelo aos dados de treinamento (x_train e y_train).\n",
    "      Computa o Coeficiente de Determinação para a predição realizada\n",
    "      por aquele modelo para os dados de teste: uma predição perfeita\n",
    "      possui score 1.0\n",
    "  \"\"\"\n",
    "  model_fitted = model.fit(x_train,y_train)\n",
    "  y_pred = model_fitted.predict(x_test)\n",
    "  score = r2_score(y_test, y_pred)\n",
    "  return score\n",
    "\n",
    "# efetua o ajuste dos modelos e exibe o resultado.\n",
    "for name,model in zip(names,models):\n",
    "  score = R2(model,x_train, x_test, y_train, y_test)\n",
    "  print('{}: {:.6f}, {:.4f}'.format(name,score.mean(),score.std()))\n",
    "        \n",
    "print('Optimal parameter list:', model.best_params_)\n",
    "print('Optimal model:', model.best_estimator_)\n",
    "print('Optimal R2 value (train):', model.best_score_)\n",
    "\n",
    "# define os parâmetros da busca exaustiva: todas as combinações\n",
    "parameters = {\n",
    "    'kernel': ['linear', 'rbf' ],\n",
    "        'C' : [0.1  , 0.5 ,0.9,1,5],\n",
    "    'gamma' : [0.001, 0.01,0.1,1]\n",
    "}\n",
    "\n",
    "# busca exaustiva (grid search) com 3-fold cross validation\n",
    "print(\"starting exhaustive search... (please wait)\")\n",
    "model = GridSearchCV( SVR(), param_grid=parameters, cv=3 )\n",
    "model.fit(x_train, y_train)\n",
    "\n",
    "# verifica o score nos dados de teste\n",
    "y_pred = model.predict(x_test)\n",
    "best_score_test = r2_score(y_test, y_pred)\n",
    "print('Optimal R2 value (test) :', best_score_test )        "
   ]
  },
  {
   "cell_type": "markdown",
   "metadata": {},
   "source": [
    "Pdemos observar que o modelo que usa XgBoost apresenta a melhor performance, seguido do que usa Random Forrest."
   ]
  }
 ],
 "metadata": {
  "kernelspec": {
   "display_name": "Python 3",
   "language": "python",
   "name": "python3"
  },
  "language_info": {
   "codemirror_mode": {
    "name": "ipython",
    "version": 3
   },
   "file_extension": ".py",
   "mimetype": "text/x-python",
   "name": "python",
   "nbconvert_exporter": "python",
   "pygments_lexer": "ipython3",
   "version": "3.7.0"
  }
 },
 "nbformat": 4,
 "nbformat_minor": 2
}
