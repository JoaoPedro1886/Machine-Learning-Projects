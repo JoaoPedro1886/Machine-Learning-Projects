{
 "cells": [
  {
   "cell_type": "markdown",
   "metadata": {
    "id": "KerbVB8MGamy"
   },
   "source": [
    "# Importa as bibliotecas necessárias"
   ]
  },
  {
   "cell_type": "code",
   "execution_count": 24,
   "metadata": {
    "id": "_c6kGgLq6B6R"
   },
   "outputs": [],
   "source": [
    "import tensorflow as tf\n",
    "from tensorflow import keras\n",
    "import numpy as np\n",
    "import matplotlib.pyplot as plt"
   ]
  },
  {
   "cell_type": "markdown",
   "metadata": {
    "id": "oYJQsiyjGm8C"
   },
   "source": [
    "# Carrega os dados"
   ]
  },
  {
   "cell_type": "code",
   "execution_count": 25,
   "metadata": {
    "collapsed": true,
    "id": "5ksvsRB16B6c"
   },
   "outputs": [],
   "source": [
    "fashion_mnist = keras.datasets.fashion_mnist\n",
    "\n",
    "(train_images, train_labels), (test_images, test_labels) = fashion_mnist.load_data()"
   ]
  },
  {
   "cell_type": "markdown",
   "metadata": {
    "id": "Mn8Atga1G3AJ"
   },
   "source": [
    "# Explora o formato do dataset"
   ]
  },
  {
   "cell_type": "code",
   "execution_count": 26,
   "metadata": {
    "colab": {
     "base_uri": "https://localhost:8080/"
    },
    "id": "aevxZgo26B6j",
    "outputId": "e4c04c1e-7c48-4749-9a37-e41075f5cdd0"
   },
   "outputs": [
    {
     "data": {
      "text/plain": [
       "(60000, 28, 28)"
      ]
     },
     "execution_count": 26,
     "metadata": {
      "tags": []
     },
     "output_type": "execute_result"
    }
   ],
   "source": [
    "train_images.shape"
   ]
  },
  {
   "cell_type": "markdown",
   "metadata": {
    "id": "zNkKVTQ9IXv7"
   },
   "source": [
    "Existem 6000 imagens no conjunto de treino e cada imagem é representada por 28 x 28 pixels."
   ]
  },
  {
   "cell_type": "code",
   "execution_count": 27,
   "metadata": {
    "colab": {
     "base_uri": "https://localhost:8080/"
    },
    "id": "84Cf91vr6B6n",
    "outputId": "7ae2d50a-8c2e-4454-91db-a4b883969d3c"
   },
   "outputs": [
    {
     "data": {
      "text/plain": [
       "60000"
      ]
     },
     "execution_count": 27,
     "metadata": {
      "tags": []
     },
     "output_type": "execute_result"
    }
   ],
   "source": [
    "len(train_labels)"
   ]
  },
  {
   "cell_type": "markdown",
   "metadata": {
    "id": "rHBENJ9nHC9J"
   },
   "source": [
    "Existem 6000 labels no conjunto de treino."
   ]
  },
  {
   "cell_type": "code",
   "execution_count": 28,
   "metadata": {
    "colab": {
     "base_uri": "https://localhost:8080/"
    },
    "id": "bQI68dl56B6r",
    "outputId": "8e5530f8-8433-4443-e9d0-e174d7e450b7"
   },
   "outputs": [
    {
     "data": {
      "text/plain": [
       "array([0, 1, 2, 3, 4, 5, 6, 7, 8, 9], dtype=uint8)"
      ]
     },
     "execution_count": 28,
     "metadata": {
      "tags": []
     },
     "output_type": "execute_result"
    }
   ],
   "source": [
    "np.unique(train_labels)"
   ]
  },
  {
   "cell_type": "markdown",
   "metadata": {
    "id": "Wa7QCSFGHJra"
   },
   "source": [
    "Cada label é um inteiro entre 0 e 9."
   ]
  },
  {
   "cell_type": "code",
   "execution_count": 29,
   "metadata": {
    "colab": {
     "base_uri": "https://localhost:8080/"
    },
    "id": "bxPD-Au-6B6v",
    "outputId": "edeb7520-4888-44db-8447-a17c5f2eb6f4"
   },
   "outputs": [
    {
     "data": {
      "text/plain": [
       "(10000, 28, 28)"
      ]
     },
     "execution_count": 29,
     "metadata": {
      "tags": []
     },
     "output_type": "execute_result"
    }
   ],
   "source": [
    "test_images.shape"
   ]
  },
  {
   "cell_type": "markdown",
   "metadata": {
    "id": "Dc2NR03ZIfod"
   },
   "source": [
    "Existem 10000 imagens no conjunto de teste."
   ]
  },
  {
   "cell_type": "code",
   "execution_count": 30,
   "metadata": {
    "colab": {
     "base_uri": "https://localhost:8080/"
    },
    "id": "b42JxOQn6B60",
    "outputId": "0db86b3b-6c70-491d-d58a-e8babe107597"
   },
   "outputs": [
    {
     "data": {
      "text/plain": [
       "10000"
      ]
     },
     "execution_count": 30,
     "metadata": {
      "tags": []
     },
     "output_type": "execute_result"
    }
   ],
   "source": [
    "len(test_labels)"
   ]
  },
  {
   "cell_type": "markdown",
   "metadata": {
    "id": "7fINbFozH8Jx"
   },
   "source": [
    "Existem 10000 labels no conjunto de teste."
   ]
  },
  {
   "cell_type": "code",
   "execution_count": 31,
   "metadata": {
    "colab": {
     "base_uri": "https://localhost:8080/"
    },
    "id": "9JZ0l1ph6B64",
    "outputId": "0304c4c1-3003-4049-86cd-1d3c21f4b856"
   },
   "outputs": [
    {
     "data": {
      "text/plain": [
       "array([9, 2, 1, ..., 8, 1, 5], dtype=uint8)"
      ]
     },
     "execution_count": 31,
     "metadata": {
      "tags": []
     },
     "output_type": "execute_result"
    }
   ],
   "source": [
    "test_labels"
   ]
  },
  {
   "cell_type": "markdown",
   "metadata": {
    "id": "Glyai7pnJPRe"
   },
   "source": [
    "# Pré-processamento dos dados"
   ]
  },
  {
   "cell_type": "markdown",
   "metadata": {
    "id": "tQ4H9KtPJmci"
   },
   "source": [
    "Inicialmente iremos visualizar a primeira imagem do conjunto de treino."
   ]
  },
  {
   "cell_type": "code",
   "execution_count": 32,
   "metadata": {
    "colab": {
     "base_uri": "https://localhost:8080/",
     "height": 265
    },
    "id": "LUELG4sQJWgr",
    "outputId": "61ce962b-e702-4838-da9d-bfeca21c7958"
   },
   "outputs": [
    {
     "data": {
      "image/png": "[encoded data removed]",
      "text/plain": [
       "<Figure size 432x288 with 2 Axes>"
      ]
     },
     "metadata": {
      "needs_background": "light",
      "tags": []
     },
     "output_type": "display_data"
    }
   ],
   "source": [
    "plt.figure()\n",
    "plt.imshow(train_images[0])\n",
    "plt.colorbar()\n",
    "plt.grid(False)\n",
    "plt.show()"
   ]
  },
  {
   "cell_type": "markdown",
   "metadata": {
    "id": "QjINmGpBKjAM"
   },
   "source": [
    "Como podemos ver, os valores dos pixels estão entre 0 e 255. Portanto, para normalizar os valores no intervalo entre 0 e 1, podemos dividir os valores, tanto do conjunto de treino como o de teste, por 255."
   ]
  },
  {
   "cell_type": "code",
   "execution_count": 33,
   "metadata": {
    "collapsed": true,
    "id": "L3SKeNvS6B7D"
   },
   "outputs": [],
   "source": [
    "train_images = train_images / 255.0\n",
    "\n",
    "test_images = test_images / 255.0"
   ]
  },
  {
   "cell_type": "markdown",
   "metadata": {
    "id": "e5WkJSo6LTC7"
   },
   "source": [
    "Para verificar se os dados estão no formato correto e prontos para serem usados para construir e treinar a rede, podemos visualizar as primeiras 15 imagens do conjunto de treinamento."
   ]
  },
  {
   "cell_type": "code",
   "execution_count": 34,
   "metadata": {
    "colab": {
     "base_uri": "https://localhost:8080/",
     "height": 512
    },
    "id": "m4khh4ncL1us",
    "outputId": "e8a52882-656c-4e9b-869c-4094a2b3d495"
   },
   "outputs": [
    {
     "data": {
      "image/png": "[encoded data removed]",
      "text/plain": [
       "<Figure size 1080x1080 with 15 Axes>"
      ]
     },
     "metadata": {
      "tags": []
     },
     "output_type": "display_data"
    }
   ],
   "source": [
    "plt.figure(figsize=(15,15))\n",
    "for i in range(15):\n",
    "    plt.subplot(5,5,i+1)\n",
    "    plt.xticks([])\n",
    "    plt.yticks([])\n",
    "    plt.grid(False)\n",
    "    plt.imshow(train_images[i], cmap=plt.cm.binary)\n",
    "plt.show()"
   ]
  },
  {
   "cell_type": "markdown",
   "metadata": {
    "id": "Vqj4FCCnMgMH"
   },
   "source": [
    "# Construindo o modelo"
   ]
  },
  {
   "cell_type": "markdown",
   "metadata": {
    "id": "QpOyiwuqM-LY"
   },
   "source": [
    "No código abaixo, a primeira camada da rede, tf.keras.layers.Flatten, transforma o formato da imagem de uma matriz de imagens de duas dimensões (28 x 28 pixels) para um vetor (de 28 * 28 = 784 pixels). A rede consiste de uma sequência de duas camadas tf.keras.layers.Dense. A primeira camada Dense tem 50 neurônios e usa a ativação ReLU. A última camada é uma softmax de 10 neurônios. Note que o número de neurônios na camada de saída deve ser igual ao número de classes. Essa camada retorna um vetor de 10 probabilidades, cuja soma resulta em 1. Cada neurônio contem um valor que indica a probabilidade de que aquela imagem pertence a uma das 10 classes."
   ]
  },
  {
   "cell_type": "code",
   "execution_count": 35,
   "metadata": {
    "colab": {
     "base_uri": "https://localhost:8080/"
    },
    "id": "FZ21TQ4O6B7J",
    "outputId": "ec686313-c0ca-4f75-d71d-0ebafa2befef"
   },
   "outputs": [
    {
     "name": "stdout",
     "output_type": "stream",
     "text": [
      "Model: \"sequential_1\"\n",
      "_________________________________________________________________\n",
      "Layer (type)                 Output Shape              Param #   \n",
      "=================================================================\n",
      "flatten_1 (Flatten)          (None, 784)               0         \n",
      "_________________________________________________________________\n",
      "dense_2 (Dense)              (None, 50)                39250     \n",
      "_________________________________________________________________\n",
      "dense_3 (Dense)              (None, 10)                510       \n",
      "=================================================================\n",
      "Total params: 39,760\n",
      "Trainable params: 39,760\n",
      "Non-trainable params: 0\n",
      "_________________________________________________________________\n"
     ]
    }
   ],
   "source": [
    "model = keras.Sequential([\n",
    "    keras.layers.Flatten(input_shape=(28, 28)),\n",
    "    keras.layers.Dense(50, activation=tf.nn.relu),\n",
    "    keras.layers.Dense(10, activation=tf.nn.softmax)\n",
    "])\n",
    "model.summary()"
   ]
  },
  {
   "cell_type": "markdown",
   "metadata": {
    "id": "eU3XyMShPZeI"
   },
   "source": [
    "Antes de treinar o modelo, ainda é necessário configurar a função de custo, o otimizador e monitorar os passos de treinamento e teste. Abaixo, o otimizador usado foi o Adam, a função de custo sparse categorical crossentroppy (usada quando as classes são mutualmente exclusivas), e a métrica é a acurácia, a fração das imagens que foram classificadas corretamente."
   ]
  },
  {
   "cell_type": "code",
   "execution_count": 36,
   "metadata": {
    "collapsed": true,
    "id": "2YLI-l8B6B7N"
   },
   "outputs": [],
   "source": [
    "model.compile(optimizer='adam', \n",
    "              loss='sparse_categorical_crossentropy',\n",
    "              metrics=['accuracy'])"
   ]
  },
  {
   "cell_type": "markdown",
   "metadata": {
    "id": "Nv3C2UNhQ9pJ"
   },
   "source": [
    "# Treinando o modelo"
   ]
  },
  {
   "cell_type": "markdown",
   "metadata": {
    "id": "uBzbwoN9RbD0"
   },
   "source": [
    "Para treinar o modelo, o método model.fit é chamado."
   ]
  },
  {
   "cell_type": "code",
   "execution_count": 37,
   "metadata": {
    "colab": {
     "base_uri": "https://localhost:8080/"
    },
    "id": "cBGct1Ij6B7R",
    "outputId": "bf3e23f5-c3be-41bb-8bea-368dc38fea39"
   },
   "outputs": [
    {
     "name": "stdout",
     "output_type": "stream",
     "text": [
      "Epoch 1/5\n",
      "1875/1875 [==============================] - 3s 1ms/step - loss: 0.6698 - accuracy: 0.7673\n",
      "Epoch 2/5\n",
      "1875/1875 [==============================] - 3s 1ms/step - loss: 0.4090 - accuracy: 0.8556\n",
      "Epoch 3/5\n",
      "1875/1875 [==============================] - 3s 1ms/step - loss: 0.3706 - accuracy: 0.8686\n",
      "Epoch 4/5\n",
      "1875/1875 [==============================] - 3s 1ms/step - loss: 0.3371 - accuracy: 0.8799\n",
      "Epoch 5/5\n",
      "1875/1875 [==============================] - 3s 1ms/step - loss: 0.3179 - accuracy: 0.8829\n"
     ]
    },
    {
     "data": {
      "text/plain": [
       "<tensorflow.python.keras.callbacks.History at 0x7fca33b86550>"
      ]
     },
     "execution_count": 37,
     "metadata": {
      "tags": []
     },
     "output_type": "execute_result"
    }
   ],
   "source": [
    "model.fit(train_images, train_labels, epochs=5)"
   ]
  },
  {
   "cell_type": "markdown",
   "metadata": {
    "id": "Q1BM1WqWR37H"
   },
   "source": [
    "Acima podemos ver o custo e a acurácia à medida que o modelo treina. O modelo atinge uma acurácia de 88% depois com o conjunto de treinamento depois de 5 epochs. Note que a acurácia vai de 0.76 a 0.86 inicialmente, mas depois de vai aumentando apenas 1% por epoch, o que mostra que um número maior de passos não resultaria em um aumento significativo da acurácia."
   ]
  },
  {
   "cell_type": "markdown",
   "metadata": {
    "id": "Cv4agJl-U06x"
   },
   "source": [
    "# Avaliando a acurácia"
   ]
  },
  {
   "cell_type": "markdown",
   "metadata": {
    "id": "shDYkQbDU5TB"
   },
   "source": [
    "Agora, vams verificar o desempenho do modelo com o conjunto de teste e comparar com o desmpenho com o conjunto de treino."
   ]
  },
  {
   "cell_type": "code",
   "execution_count": 38,
   "metadata": {
    "colab": {
     "base_uri": "https://localhost:8080/"
    },
    "id": "m_XoCgZx6B7X",
    "outputId": "1f49d9de-d422-4abf-d74d-8bdf7e0d8a0e"
   },
   "outputs": [
    {
     "name": "stdout",
     "output_type": "stream",
     "text": [
      "313/313 [==============================] - 0s 1ms/step - loss: 0.3623 - accuracy: 0.8713\n",
      "Test accuracy: 0.8712999820709229\n"
     ]
    }
   ],
   "source": [
    "test_loss, test_acc = model.evaluate(test_images, test_labels)\n",
    "\n",
    "print('Test accuracy:', test_acc)"
   ]
  },
  {
   "cell_type": "markdown",
   "metadata": {
    "id": "tinFxnIPVYA-"
   },
   "source": [
    "A performance do modelo com o conjunto de teste é de 0.87, um pouco menor do que o verificado com o conjunto de treino, o que indica overfitting."
   ]
  },
  {
   "cell_type": "markdown",
   "metadata": {
    "id": "vjx4TqvBVrOE"
   },
   "source": [
    "# Fazendo predições"
   ]
  },
  {
   "cell_type": "markdown",
   "metadata": {
    "id": "VQaodnNaVwNE"
   },
   "source": [
    "Após o modelo ser treinado, podemos usá-lo para fazer predições."
   ]
  },
  {
   "cell_type": "code",
   "execution_count": 39,
   "metadata": {
    "collapsed": true,
    "id": "831mHUzm6B7e"
   },
   "outputs": [],
   "source": [
    "predictions = model.predict(test_images)"
   ]
  },
  {
   "cell_type": "code",
   "execution_count": 40,
   "metadata": {
    "colab": {
     "base_uri": "https://localhost:8080/"
    },
    "id": "VKWN75Op6B7h",
    "outputId": "bf7794ac-394d-4864-b246-4b1865738993"
   },
   "outputs": [
    {
     "data": {
      "text/plain": [
       "array([5.4038133e-05, 1.3005317e-07, 1.3906599e-05, 2.6314265e-05,\n",
       "       2.8305007e-05, 2.8000606e-02, 3.1935921e-04, 1.4331192e-01,\n",
       "       9.9701248e-04, 8.2724839e-01], dtype=float32)"
      ]
     },
     "execution_count": 40,
     "metadata": {
      "tags": []
     },
     "output_type": "execute_result"
    }
   ],
   "source": [
    "predictions[0]"
   ]
  },
  {
   "cell_type": "markdown",
   "metadata": {
    "id": "MhiQbIydW1iF"
   },
   "source": [
    "A predição é um vetor de 10 números, cada um representa a confiança do modelo de que a imagem corresponde a cada um dos artigos de roupa. "
   ]
  },
  {
   "cell_type": "code",
   "execution_count": 41,
   "metadata": {
    "colab": {
     "base_uri": "https://localhost:8080/"
    },
    "id": "kaStAfhm6B7o",
    "outputId": "9b835b57-251b-4a5e-a9bc-daabdd8ff0cb"
   },
   "outputs": [
    {
     "data": {
      "text/plain": [
       "9"
      ]
     },
     "execution_count": 41,
     "metadata": {
      "tags": []
     },
     "output_type": "execute_result"
    }
   ],
   "source": [
    "np.argmax(predictions[0])"
   ]
  },
  {
   "cell_type": "code",
   "execution_count": 42,
   "metadata": {
    "colab": {
     "base_uri": "https://localhost:8080/"
    },
    "id": "_JNGtaUf6B7t",
    "outputId": "aaf3aaf3-abde-4ea9-e94f-1b8d073072bb"
   },
   "outputs": [
    {
     "data": {
      "text/plain": [
       "9"
      ]
     },
     "execution_count": 42,
     "metadata": {
      "tags": []
     },
     "output_type": "execute_result"
    }
   ],
   "source": [
    "test_labels[0]"
   ]
  },
  {
   "cell_type": "markdown",
   "metadata": {
    "id": "xzOcqOgTYnpx"
   },
   "source": [
    "Aqui, vemos que o modelo acertou a classificação da primeira imagem do conjunto de dados, que pertence à classe 9."
   ]
  },
  {
   "cell_type": "markdown",
   "metadata": {
    "id": "EQ3f0m88axwR"
   },
   "source": [
    "Agora, o modelo treinado pode ser usado para fazer a predição de uma única imagem."
   ]
  },
  {
   "cell_type": "code",
   "execution_count": 43,
   "metadata": {
    "colab": {
     "base_uri": "https://localhost:8080/"
    },
    "id": "9PRNwJjx6B8D",
    "outputId": "ae38a55f-afc4-4ad4-f95a-fe1d72f2f91b"
   },
   "outputs": [
    {
     "name": "stdout",
     "output_type": "stream",
     "text": [
      "(28, 28)\n"
     ]
    }
   ],
   "source": [
    "img = test_images[0]\n",
    "\n",
    "print(img.shape)"
   ]
  },
  {
   "cell_type": "markdown",
   "metadata": {
    "id": "w7MZ5i5RbLkp"
   },
   "source": [
    "Adiciona a imagem a um batch de um só membro."
   ]
  },
  {
   "cell_type": "code",
   "execution_count": 44,
   "metadata": {
    "colab": {
     "base_uri": "https://localhost:8080/"
    },
    "id": "rgAEBBvr6B8H",
    "outputId": "4545d55f-49f2-43b2-df42-30bca55ee50d"
   },
   "outputs": [
    {
     "name": "stdout",
     "output_type": "stream",
     "text": [
      "(1, 28, 28)\n"
     ]
    }
   ],
   "source": [
    "img = (np.expand_dims(img,0))\n",
    "\n",
    "print(img.shape)"
   ]
  },
  {
   "cell_type": "markdown",
   "metadata": {
    "id": "rwBm0RH5bWZe"
   },
   "source": [
    "Agora, podemos pedir a label correta dessa imagem."
   ]
  },
  {
   "cell_type": "code",
   "execution_count": 45,
   "metadata": {
    "colab": {
     "base_uri": "https://localhost:8080/"
    },
    "id": "kBd9iSvk6B8L",
    "outputId": "694a3d0c-5dd2-4a20-d93a-d99384057dfd"
   },
   "outputs": [
    {
     "name": "stdout",
     "output_type": "stream",
     "text": [
      "[[5.4038221e-05 1.3005327e-07 1.3906635e-05 2.6314310e-05 2.8305054e-05\n",
      "  2.8000595e-02 3.1936006e-04 1.4331210e-01 9.9701318e-04 8.2724822e-01]]\n"
     ]
    }
   ],
   "source": [
    "predictions_single = model.predict(img)\n",
    "\n",
    "print(predictions_single)"
   ]
  },
  {
   "cell_type": "code",
   "execution_count": 46,
   "metadata": {
    "colab": {
     "base_uri": "https://localhost:8080/"
    },
    "id": "buMojq1B6B8S",
    "outputId": "d4b14b56-801d-41c8-f069-21ed7640574d"
   },
   "outputs": [
    {
     "data": {
      "text/plain": [
       "9"
      ]
     },
     "execution_count": 46,
     "metadata": {
      "tags": []
     },
     "output_type": "execute_result"
    }
   ],
   "source": [
    "np.argmax(predictions_single[0])"
   ]
  },
  {
   "cell_type": "markdown",
   "metadata": {
    "id": "p9i6ZeybcIGB"
   },
   "source": [
    "O modelo, de novo, previu a label como 9."
   ]
  }
 ],
 "metadata": {
  "colab": {
   "name": "OficinaTensorFlowJoaoPedroSRodrigues.ipynb",
   "provenance": []
  },
  "kernelspec": {
   "display_name": "Python 3",
   "language": "python",
   "name": "python3"
  },
  "language_info": {
   "codemirror_mode": {
    "name": "ipython",
    "version": 3
   },
   "file_extension": ".py",
   "mimetype": "text/x-python",
   "name": "python",
   "nbconvert_exporter": "python",
   "pygments_lexer": "ipython3",
   "version": "3.7.0"
  }
 },
 "nbformat": 4,
 "nbformat_minor": 1
}
